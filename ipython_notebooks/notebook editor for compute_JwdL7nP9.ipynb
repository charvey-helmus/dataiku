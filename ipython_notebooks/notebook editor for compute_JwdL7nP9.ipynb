{
  "nbformat": 4,
  "nbformat_minor": 0,
  "metadata": {
    "kernelspec": {
      "display_name": "Python in CPU-M-1-cpu-4Gb-Ram (env mlflow)",
      "language": "python",
      "name": "py-dku-containerized-venv-mlflow-cpu-m-1-cpu-4gb-ram"
    },
    "associatedRecipe": "compute_JwdL7nP9",
    "creator": "chris.helmus@dataiku.com",
    "createdOn": 1668781174593,
    "tags": [
      "recipe-editor"
    ],
    "customFields": {}
  },
  "cells": [
    {
      "cell_type": "code",
      "metadata": {},
      "outputs": [],
      "execution_count": 0,
      "source": [
        "# -*- coding: utf-8 -*-\n",
        "import dataiku\n",
        "import pandas as pd, numpy as np\n",
        "from dataiku import pandasutils as pdu\n",
        "from sklearn.pipeline import Pipeline\n",
        "from sklearn.impute import SimpleImputer\n",
        "from sklearn.preprocessing import StandardScaler, OneHotEncoder\n",
        "from sklearn.compose import ColumnTransformer\n",
        "from sklearn.ensemble import RandomForestClassifier\n",
        "from sklearn.model_selection import GridSearchCV\n",
        "from sklearn.metrics import roc_auc_score\n",
        "# Read recipe inputs\n",
        "flight_joined_prepared \u003d dataiku.Dataset(\"flight_data\")\n",
        "df \u003d flight_joined_prepared.get_dataframe()"
      ]
    },
    {
      "cell_type": "code",
      "metadata": {},
      "outputs": [],
      "execution_count": 0,
      "source": [
        "#-----------------------------------------------------------------\n",
        "# Dataset Settings\n",
        "#-----------------------------------------------------------------\n",
        "\n",
        "# Select a subset of features to use for training\n",
        "SCHEMA \u003d {\n",
        "    \u0027target\u0027: \u0027Late\u0027,\n",
        "    \u0027features_num\u0027: [\u0027dep_month\u0027, \u0027dep_woy\u0027, \u0027dep_hour\u0027,\u0027Distance\u0027,\u0027Late_avg\u0027],\n",
        "    \u0027features_cat\u0027: [\u0027UniqueCarrier\u0027, \u0027Origin\u0027,\u0027Dest\u0027]\n",
        "}"
      ]
    },
    {
      "cell_type": "code",
      "metadata": {},
      "outputs": [],
      "execution_count": 0,
      "source": [
        "#-----------------------------------------------------------------\n",
        "# Preprocessing on Training Set\n",
        "#-----------------------------------------------------------------\n",
        "\n",
        "# Numerical variables\n",
        "df_num \u003d df[SCHEMA[\u0027features_num\u0027]]\n",
        "\n",
        "trf_num \u003d Pipeline([\n",
        "    (\u0027imp\u0027, SimpleImputer(strategy\u003d\u0027mean\u0027)),\n",
        "    (\u0027sts\u0027, StandardScaler()),\n",
        "])\n",
        "\n",
        "# Categorical variables\n",
        "df_cat \u003d df[SCHEMA[\u0027features_cat\u0027]]\n",
        "\n",
        "trf_cat \u003d OneHotEncoder(handle_unknown\u003d\"ignore\")\n",
        "\n",
        "preprocessor \u003d ColumnTransformer(\n",
        "    transformers\u003d[\n",
        "        (\"num\", trf_num, SCHEMA[\u0027features_num\u0027]),\n",
        "        (\"cat\", trf_cat, SCHEMA[\u0027features_cat\u0027])\n",
        "    ]\n",
        ")"
      ]
    },
    {
      "cell_type": "code",
      "metadata": {},
      "outputs": [],
      "execution_count": 0,
      "source": [
        "import dataiku\n",
        "import mlflow\n",
        "\n",
        "\n",
        "project \u003d dataiku.api_client().get_default_project()\n",
        "managed_folder \u003d project.get_managed_folder(\u00273hOB5aod\u0027)\n",
        "\n",
        "\n",
        "clf \u003d Pipeline(steps\u003d[(\"preprocessor\", preprocessor), (\"clf\", RandomForestClassifier())])\n",
        "\n",
        "param_grid \u003d {\n",
        "    \"clf__max_depth\"        : [3],\n",
        "    \"clf__max_features\"     : [1],\n",
        "    \"clf__min_samples_split\": [2],\n",
        "    \"clf__min_samples_leaf\" : [1],\n",
        "    \"clf__bootstrap\"        : [False],\n",
        "    \"clf__criterion\"        : [\"gini\"],\n",
        "    \"clf__n_estimators\"     : [10]\n",
        "}\n",
        "\n",
        "gs \u003d GridSearchCV(clf, param_grid\u003dparam_grid, n_jobs\u003d-1, scoring\u003d\u0027roc_auc\u0027, cv\u003d3)\n",
        "X \u003d df[SCHEMA[\u0027features_num\u0027] + SCHEMA[\u0027features_cat\u0027]]\n",
        "Y \u003d df[SCHEMA[\u0027target\u0027]].values\n",
        "gs.fit(X, Y)\n",
        "clf \u003d gs.best_estimator_"
      ]
    },
    {
      "cell_type": "code",
      "metadata": {},
      "outputs": [],
      "execution_count": 0,
      "source": [
        "client \u003d dataiku.api_client()\n",
        "project \u003d client.get_project(\u0027MLFLOWO16N\u0027)\n",
        "# Get or create saved models\n",
        "if dataiku.get_custom_variables()[\"saved_model_id_2\"] \u003d\u003d \"\":\n",
        "    saved_model \u003d project.create_mlflow_pyfunc_model(\"mlflow_model_2\", \"BINARY_CLASSIFICATION\")\n",
        "    project.update_variables({\"saved_model_id_2\": saved_model.id})\n",
        "else:\n",
        "    saved_model \u003d project.get_saved_model(dataiku.get_custom_variables()[\"saved_model_id_2\"])"
      ]
    },
    {
      "cell_type": "code",
      "metadata": {},
      "outputs": [],
      "execution_count": 0,
      "source": [
        "mlflow_version \u003d saved_model.import_mlflow_version_from_managed_folder(dataiku.get_custom_variables()[\"custom_model_version\"], \"3hOB5aod\", \u0027experiment_2/my_run_K4w/artifacts/model\u0027,code_env_name\u003d\"mlflow\")\n",
        "project.update_variables({\"custom_model_version\": int(dataiku.get_custom_variables()[\"custom_model_version\"]) + 1})"
      ]
    },
    {
      "cell_type": "code",
      "metadata": {},
      "outputs": [],
      "execution_count": 0,
      "source": [
        "mlflow_version.set_core_metadata(SCHEMA[\u0027target\u0027], class_labels\u003d[\"False\", \"True\"], get_features_from_dataset\u003d\"flight_ground_truth_prepared\")\n",
        "mlflow_version.evaluate(\"flight_ground_truth_prepared\")"
      ]
    }
  ]
}