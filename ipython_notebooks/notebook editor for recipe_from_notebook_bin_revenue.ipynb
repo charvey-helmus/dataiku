{
  "nbformat": 4,
  "nbformat_minor": 0,
  "metadata": {
    "kernelspec": {
      "display_name": "Python (env py_3_7)",
      "language": "python",
      "name": "py-dku-venv-py_3_7"
    },
    "associatedRecipe": "recipe_from_notebook_bin_revenue",
    "dkuGit": {
      "lastInteraction": 0
    },
    "creationTag": {
      "versionNumber": 0,
      "lastModifiedBy": {
        "login": "user0"
      },
      "lastModifiedOn": 1645027550273
    },
    "creator": "user0",
    "createdOn": 1645027550273,
    "tags": [
      "recipe-editor"
    ],
    "customFields": {}
  },
  "cells": [
    {
      "cell_type": "code",
      "metadata": {},
      "outputs": [],
      "execution_count": 0,
      "source": [
        "%pylab inline"
      ]
    },
    {
      "cell_type": "code",
      "metadata": {},
      "outputs": [],
      "execution_count": 0,
      "source": [
        "import dataiku\n",
        "from dataiku import pandasutils as pdu\n",
        "import pandas as pd"
      ]
    },
    {
      "cell_type": "code",
      "metadata": {},
      "outputs": [],
      "execution_count": 0,
      "source": [
        "# Read the dataset as a Pandas dataframe in memory\n",
        "# Note: here, we only read the first 100K rows. Other sampling options are available\n",
        "dataset_customers_web_joined \u003d dataiku.Dataset(\"customers_web_joined\")\n",
        "df \u003d dataset_customers_web_joined.get_dataframe()"
      ]
    },
    {
      "cell_type": "code",
      "metadata": {},
      "outputs": [],
      "execution_count": 0,
      "source": [
        "from python_library.myfunctions import bin_values\n",
        "\n",
        "# Apply the function to create the high_value column then drop the revenue column\n",
        "revenue_cutoff \u003d int(dataiku.get_custom_variables()[\"revenue_cutoff\"])\n",
        "df[\u0027high_value\u0027] \u003d df.revenue.apply(bin_values, v\u003drevenue_cutoff)\n",
        "df.drop(columns\u003d[\u0027revenue\u0027], inplace\u003dTrue)\n",
        "# df.head()"
      ]
    },
    {
      "cell_type": "code",
      "metadata": {},
      "outputs": [],
      "execution_count": 0,
      "source": [
        "# Recipe outputs\n",
        "customers_binned \u003d dataiku.Dataset(\"customers_binned\")\n",
        "customers_binned.write_with_schema(df)"
      ]
    }
  ]
}