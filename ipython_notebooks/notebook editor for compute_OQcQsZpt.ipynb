{
  "metadata": {
    "kernelspec": {
      "display_name": "Python (env ml_flow_py37)",
      "name": "py-dku-venv-ml_flow_py37",
      "language": "python"
    },
    "language_info": {
      "mimetype": "text/x-python",
      "nbconvert_exporter": "python",
      "version": "3.7.13",
      "name": "python",
      "pygments_lexer": "ipython3",
      "file_extension": ".py",
      "codemirror_mode": {
        "version": 3,
        "name": "ipython"
      }
    },
    "tags": [
      "recipe-editor"
    ],
    "associatedRecipe": "compute_OQcQsZpt",
    "createdOn": 1649261749218,
    "hide_input": false,
    "customFields": {},
    "creator": "admin",
    "modifiedBy": "admin"
  },
  "nbformat": 4,
  "nbformat_minor": 1,
  "cells": [
    {
      "execution_count": 0,
      "cell_type": "code",
      "metadata": {},
      "source": [
        "import dataiku\nfrom dataiku import pandasutils as pdu\nimport pandas as pd, numpy as np"
      ],
      "outputs": []
    },
    {
      "execution_count": 0,
      "cell_type": "code",
      "metadata": {},
      "source": [
        "from sklearn.pipeline import Pipeline\nfrom sklearn.impute import SimpleImputer\nfrom sklearn.preprocessing import StandardScaler, OneHotEncoder\nfrom sklearn.compose import ColumnTransformer\nfrom sklearn.ensemble import RandomForestClassifier\nfrom sklearn.model_selection import GridSearchCV\nfrom sklearn.metrics import roc_auc_score"
      ],
      "outputs": []
    },
    {
      "execution_count": 0,
      "cell_type": "code",
      "metadata": {},
      "source": [
        "# load \u0027train\u0027 dataset as a Pandas dataframe\ndf \u003d dataiku.Dataset(\"train\").get_dataframe()"
      ],
      "outputs": []
    },
    {
      "execution_count": 0,
      "cell_type": "code",
      "metadata": {},
      "source": [
        "#-----------------------------------------------------------------\n# Dataset Settings\n#-----------------------------------------------------------------\n\n# Select a subset of features to use for training\nSCHEMA \u003d {\n    \u0027target\u0027: \u0027high_value\u0027,\n    \u0027features_num\u0027: [\u0027age\u0027, \u0027price_first_item_purchased\u0027, \u0027pages_visited\u0027],\n    \u0027features_cat\u0027: [\u0027gender\u0027, \u0027campaign\u0027]\n}"
      ],
      "outputs": []
    },
    {
      "execution_count": 0,
      "cell_type": "code",
      "metadata": {},
      "source": [
        "#-----------------------------------------------------------------\n# Preprocessing on Training Set\n#-----------------------------------------------------------------\n\n# Numerical variables\ndf_num \u003d df[SCHEMA[\u0027features_num\u0027]]\n\ntrf_num \u003d Pipeline([\n    (\u0027imp\u0027, SimpleImputer(strategy\u003d\u0027mean\u0027)),\n    (\u0027sts\u0027, StandardScaler()),\n])\n\n# Categorical variables\ndf_cat \u003d df[SCHEMA[\u0027features_cat\u0027]]\n\ntrf_cat \u003d OneHotEncoder(handle_unknown\u003d\"ignore\")\n\npreprocessor \u003d ColumnTransformer(\n    transformers\u003d[\n        (\"num\", trf_num, SCHEMA[\u0027features_num\u0027]),\n        (\"cat\", trf_cat, SCHEMA[\u0027features_cat\u0027])\n    ]\n)"
      ],
      "outputs": []
    },
    {
      "execution_count": 0,
      "cell_type": "code",
      "metadata": {},
      "source": [
        "#-------------------------------------------------------------------------\n# TRAINING\n#-------------------------------------------------------------------------\n\nclf \u003d Pipeline(\n    steps\u003d[(\"preprocessor\", preprocessor), (\"clf\", RandomForestClassifier())]\n)\n\nparam_grid \u003d {\n    \"clf__max_depth\"        : [3, None],\n    \"clf__max_features\"     : [1, 3, 5],\n    \"clf__min_samples_split\": [2, 3, 10],\n    \"clf__min_samples_leaf\" : [1, 3, 10],\n    \"clf__bootstrap\"        : [True, False],\n    \"clf__criterion\"        : [\"gini\", \"entropy\"],\n    \"clf__n_estimators\"     : [10]\n}\n\ngs \u003d GridSearchCV(clf, param_grid\u003dparam_grid, n_jobs\u003d-1, scoring\u003d\u0027roc_auc\u0027, cv\u003d3)\nX \u003d df[SCHEMA[\u0027features_num\u0027] + SCHEMA[\u0027features_cat\u0027]]\nY \u003d df[SCHEMA[\u0027target\u0027]].values\ngs.fit(X, Y)\nclf \u003d gs.best_estimator_"
      ],
      "outputs": []
    },
    {
      "execution_count": 0,
      "cell_type": "code",
      "metadata": {},
      "source": [
        "# #-----------------------------------------------------------------\n# # Score Test Set\n# #-----------------------------------------------------------------\n\n# # load \u0027test\u0027 dataset as a Pandas dataframe\n# df_test \u003d dataiku.Dataset(\"to_assess_prepared\").get_dataframe()\n\n# # Actually score the new records\n# scores \u003d clf.predict_proba(df_test)\n\n# # Reshape\n# preds \u003d pd.DataFrame(scores, index\u003ddf_test.index).rename(columns\u003d{0: \u0027proba_False\u0027, 1: \u0027proba_True\u0027})\n# all_preds \u003d df_test.join(preds)\n\n# # Sample of the test dataset with predicted probabilities\n# all_preds.head()"
      ],
      "outputs": []
    },
    {
      "execution_count": 0,
      "cell_type": "code",
      "metadata": {},
      "source": [
        "# # Compute AUC results\n# auc \u003d roc_auc_score(all_preds[\u0027high_value\u0027].astype(bool).values, all_preds[\u0027proba_True\u0027].values)\n# auc"
      ],
      "outputs": []
    },
    {
      "execution_count": 0,
      "cell_type": "code",
      "metadata": {},
      "source": [
        "# Recipe outputs\ncustom_random_forest \u003d dataiku.Folder(\"OQcQsZpt\").get_path()\n\nfor file in os.listdir(custom_random_forest):\n    try: os.remove(file)\n    except: pass\n\nmlflow.sklearn.save_model(clf, custom_random_forest)\n\nclient \u003d dataiku.api_client()\nproject \u003d client.get_project(dataiku.default_project_key())\n\nsaved_model \u003d project.create_mlflow_pyfunc_model(\u0027random_forest\u0027, \u0027BINARY\u0027)"
      ],
      "outputs": []
    },
    {
      "execution_count": 0,
      "cell_type": "code",
      "metadata": {},
      "source": [
        "#load the MLFlow Model into DSS\nmlflow_version \u003d saved_model.import_mlflow_version_from_path(\"v1\", file_name, \u0027solution_market-basket-analysis_1\u0027)"
      ],
      "outputs": []
    },
    {
      "execution_count": 0,
      "cell_type": "code",
      "metadata": {},
      "source": [
        "mlflow_version.set_core_metadata(\"Pure_Premium\", get_features_from_dataset\u003d\"Test\")\n\nmlflow_version.evaluate(\u0027Train\u0027)"
      ],
      "outputs": []
    },
    {
      "execution_count": 0,
      "cell_type": "code",
      "metadata": {},
      "source": [
        "clf\u003dmlflow.pyfunc.load_model(file_name)"
      ],
      "outputs": []
    },
    {
      "execution_count": 0,
      "cell_type": "code",
      "metadata": {},
      "source": [
        "clf \u003d clf.predict(df.drop(\u0027Pure_Premium\u0027, 1))\nTrain_Scores_df \u003d pd.DataFrame (clf, columns \u003d [\u0027Pure_Premium_Pred\u0027])\nprint(Train_Scores_df)\nTrain_Scores \u003d dataiku.Dataset(\"Train_Scores\")\nTrain_Scores.write_with_schema(Train_Scores_df)"
      ],
      "outputs": []
    }
  ]
}