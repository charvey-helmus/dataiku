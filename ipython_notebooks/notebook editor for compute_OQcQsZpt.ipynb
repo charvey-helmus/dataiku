{
  "metadata": {
    "kernelspec": {
      "display_name": "Python (env ml_flow_py37)",
      "name": "py-dku-venv-ml_flow_py37",
      "language": "python"
    },
    "language_info": {
      "mimetype": "text/x-python",
      "nbconvert_exporter": "python",
      "version": "3.7.13",
      "name": "python",
      "pygments_lexer": "ipython3",
      "file_extension": ".py",
      "codemirror_mode": {
        "version": 3,
        "name": "ipython"
      }
    },
    "dkuGit": {
      "lastInteraction": 0
    },
    "creator": "admin",
    "associatedRecipe": "compute_OQcQsZpt",
    "createdOn": 1649261749218,
    "hide_input": false,
    "creationTag": {
      "lastModifiedBy": {
        "login": "admin"
      },
      "lastModifiedOn": 1649261749218,
      "versionNumber": 0
    },
    "customFields": {},
    "tags": [
      "recipe-editor"
    ],
    "modifiedBy": "admin"
  },
  "nbformat": 4,
  "nbformat_minor": 1,
  "cells": [
    {
      "execution_count": 27,
      "cell_type": "code",
      "metadata": {},
      "source": [
        "import dataiku\nfrom dataiku import pandasutils as pdu\nimport pandas as pd, numpy as np"
      ],
      "outputs": []
    },
    {
      "execution_count": 28,
      "cell_type": "code",
      "metadata": {},
      "source": [
        "from sklearn.pipeline import Pipeline\nfrom sklearn.impute import SimpleImputer\nfrom sklearn.preprocessing import StandardScaler, OneHotEncoder\nfrom sklearn.compose import ColumnTransformer\nfrom sklearn.ensemble import RandomForestClassifier\nfrom sklearn.model_selection import GridSearchCV\nfrom sklearn.metrics import roc_auc_score"
      ],
      "outputs": []
    },
    {
      "execution_count": 29,
      "cell_type": "code",
      "metadata": {},
      "source": [
        "# load \u0027train\u0027 dataset as a Pandas dataframe\ndf \u003d dataiku.Dataset(\"train\").get_dataframe()"
      ],
      "outputs": [
        {
          "output_type": "stream",
          "name": "stderr",
          "text": "/Users/chrishelmus/Library/dss/design/code-envs/python/ml_flow_py37/lib/python3.7/site-packages/pandas/core/indexes/base.py:395: DeprecationWarning: `np.bool` is a deprecated alias for the builtin `bool`. To silence this warning, use `bool` by itself. Doing this will not modify any behavior and is safe. If you specifically wanted the numpy scalar type, use `np.bool_` here.\nDeprecated in NumPy 1.20; for more details and guidance: https://numpy.org/devdocs/release/1.20.0-notes.html#deprecations\n  elif issubclass(data.dtype.type, np.bool) or is_bool_dtype(data):\n"
        }
      ]
    },
    {
      "execution_count": 30,
      "cell_type": "code",
      "metadata": {},
      "source": [
        "#-----------------------------------------------------------------\n# Dataset Settings\n#-----------------------------------------------------------------\n\n# Select a subset of features to use for training\nSCHEMA \u003d {\n    \u0027target\u0027: \u0027high_value\u0027,\n    \u0027features_num\u0027: [\u0027age\u0027, \u0027price_first_item_purchased\u0027, \u0027pages_visited\u0027],\n    \u0027features_cat\u0027: [\u0027gender\u0027, \u0027campaign\u0027]\n}"
      ],
      "outputs": []
    },
    {
      "execution_count": 31,
      "cell_type": "code",
      "metadata": {},
      "source": [
        "#-----------------------------------------------------------------\n# Preprocessing on Training Set\n#-----------------------------------------------------------------\n\n# Numerical variables\ndf_num \u003d df[SCHEMA[\u0027features_num\u0027]]\n\ntrf_num \u003d Pipeline([\n    (\u0027imp\u0027, SimpleImputer(strategy\u003d\u0027mean\u0027)),\n    (\u0027sts\u0027, StandardScaler()),\n])\n\n# Categorical variables\ndf_cat \u003d df[SCHEMA[\u0027features_cat\u0027]]\n\ntrf_cat \u003d OneHotEncoder(handle_unknown\u003d\"ignore\")\n\npreprocessor \u003d ColumnTransformer(\n    transformers\u003d[\n        (\"num\", trf_num, SCHEMA[\u0027features_num\u0027]),\n        (\"cat\", trf_cat, SCHEMA[\u0027features_cat\u0027])\n    ]\n)"
      ],
      "outputs": []
    },
    {
      "execution_count": 32,
      "cell_type": "code",
      "metadata": {},
      "source": [
        "#-------------------------------------------------------------------------\n# TRAINING\n#-------------------------------------------------------------------------\n\nclf \u003d Pipeline(\n    steps\u003d[(\"preprocessor\", preprocessor), (\"clf\", RandomForestClassifier())]\n)\n\nparam_grid \u003d {\n    \"clf__max_depth\"        : [3, None],\n    \"clf__max_features\"     : [1, 3, 5],\n    \"clf__min_samples_split\": [2, 3, 10],\n    \"clf__min_samples_leaf\" : [1, 3, 10],\n    \"clf__bootstrap\"        : [True, False],\n    \"clf__criterion\"        : [\"gini\", \"entropy\"],\n    \"clf__n_estimators\"     : [10]\n}\n\ngs \u003d GridSearchCV(clf, param_grid\u003dparam_grid, n_jobs\u003d-1, scoring\u003d\u0027roc_auc\u0027, cv\u003d3)\nX \u003d df[SCHEMA[\u0027features_num\u0027] + SCHEMA[\u0027features_cat\u0027]]\nY \u003d df[SCHEMA[\u0027target\u0027]].values\ngs.fit(X, Y)\nclf \u003d gs.best_estimator_"
      ],
      "outputs": [
        {
          "output_type": "stream",
          "name": "stderr",
          "text": "/Users/chrishelmus/Library/dss/design/code-envs/python/ml_flow_py37/lib/python3.7/site-packages/sklearn/model_selection/_split.py:664: DeprecationWarning: `np.int` is a deprecated alias for the builtin `int`. To silence this warning, use `int` by itself. Doing this will not modify any behavior and is safe. When replacing `np.int`, you may wish to use e.g. `np.int64` or `np.int32` to specify the precision. If you wish to review your current use, check the release note link for additional information.\nDeprecated in NumPy 1.20; for more details and guidance: https://numpy.org/devdocs/release/1.20.0-notes.html#deprecations\n  test_folds \u003d np.zeros(n_samples, dtype\u003dnp.int)\n/Users/chrishelmus/Library/dss/design/code-envs/python/ml_flow_py37/lib/python3.7/site-packages/sklearn/model_selection/_split.py:437: DeprecationWarning: `np.int` is a deprecated alias for the builtin `int`. To silence this warning, use `int` by itself. Doing this will not modify any behavior and is safe. When replacing `np.int`, you may wish to use e.g. `np.int64` or `np.int32` to specify the precision. If you wish to review your current use, check the release note link for additional information.\nDeprecated in NumPy 1.20; for more details and guidance: https://numpy.org/devdocs/release/1.20.0-notes.html#deprecations\n  fold_sizes \u003d np.full(n_splits, n_samples // n_splits, dtype\u003dnp.int)\n/Users/chrishelmus/Library/dss/design/code-envs/python/ml_flow_py37/lib/python3.7/site-packages/sklearn/model_selection/_split.py:113: DeprecationWarning: `np.bool` is a deprecated alias for the builtin `bool`. To silence this warning, use `bool` by itself. Doing this will not modify any behavior and is safe. If you specifically wanted the numpy scalar type, use `np.bool_` here.\nDeprecated in NumPy 1.20; for more details and guidance: https://numpy.org/devdocs/release/1.20.0-notes.html#deprecations\n  test_mask \u003d np.zeros(_num_samples(X), dtype\u003dnp.bool)\n/Users/chrishelmus/Library/dss/design/code-envs/python/ml_flow_py37/lib/python3.7/site-packages/sklearn/model_selection/_search.py:822: DeprecationWarning: `np.int` is a deprecated alias for the builtin `int`. To silence this warning, use `int` by itself. Doing this will not modify any behavior and is safe. When replacing `np.int`, you may wish to use e.g. `np.int64` or `np.int32` to specify the precision. If you wish to review your current use, check the release note link for additional information.\nDeprecated in NumPy 1.20; for more details and guidance: https://numpy.org/devdocs/release/1.20.0-notes.html#deprecations\n  dtype\u003dnp.int)\n/Users/chrishelmus/Library/dss/design/code-envs/python/ml_flow_py37/lib/python3.7/site-packages/pandas/core/indexes/base.py:395: DeprecationWarning: `np.bool` is a deprecated alias for the builtin `bool`. To silence this warning, use `bool` by itself. Doing this will not modify any behavior and is safe. If you specifically wanted the numpy scalar type, use `np.bool_` here.\nDeprecated in NumPy 1.20; for more details and guidance: https://numpy.org/devdocs/release/1.20.0-notes.html#deprecations\n  elif issubclass(data.dtype.type, np.bool) or is_bool_dtype(data):\n/Users/chrishelmus/Library/dss/design/code-envs/python/ml_flow_py37/lib/python3.7/site-packages/pandas/core/indexes/base.py:395: DeprecationWarning: `np.bool` is a deprecated alias for the builtin `bool`. To silence this warning, use `bool` by itself. Doing this will not modify any behavior and is safe. If you specifically wanted the numpy scalar type, use `np.bool_` here.\nDeprecated in NumPy 1.20; for more details and guidance: https://numpy.org/devdocs/release/1.20.0-notes.html#deprecations\n  elif issubclass(data.dtype.type, np.bool) or is_bool_dtype(data):\n/Users/chrishelmus/Library/dss/design/code-envs/python/ml_flow_py37/lib/python3.7/site-packages/sklearn/preprocessing/_encoders.py:95: DeprecationWarning: `np.int` is a deprecated alias for the builtin `int`. To silence this warning, use `int` by itself. Doing this will not modify any behavior and is safe. When replacing `np.int`, you may wish to use e.g. `np.int64` or `np.int32` to specify the precision. If you wish to review your current use, check the release note link for additional information.\nDeprecated in NumPy 1.20; for more details and guidance: https://numpy.org/devdocs/release/1.20.0-notes.html#deprecations\n  X_int \u003d np.zeros_like(X, dtype\u003dnp.int)\n/Users/chrishelmus/Library/dss/design/code-envs/python/ml_flow_py37/lib/python3.7/site-packages/sklearn/preprocessing/_encoders.py:96: DeprecationWarning: `np.bool` is a deprecated alias for the builtin `bool`. To silence this warning, use `bool` by itself. Doing this will not modify any behavior and is safe. If you specifically wanted the numpy scalar type, use `np.bool_` here.\nDeprecated in NumPy 1.20; for more details and guidance: https://numpy.org/devdocs/release/1.20.0-notes.html#deprecations\n  X_mask \u003d np.ones_like(X, dtype\u003dnp.bool)\n/Users/chrishelmus/Library/dss/design/code-envs/python/ml_flow_py37/lib/python3.7/site-packages/sklearn/ensemble/forest.py:487: DeprecationWarning: `np.int` is a deprecated alias for the builtin `int`. To silence this warning, use `int` by itself. Doing this will not modify any behavior and is safe. When replacing `np.int`, you may wish to use e.g. `np.int64` or `np.int32` to specify the precision. If you wish to review your current use, check the release note link for additional information.\nDeprecated in NumPy 1.20; for more details and guidance: https://numpy.org/devdocs/release/1.20.0-notes.html#deprecations\n  y_store_unique_indices \u003d np.zeros(y.shape, dtype\u003dnp.int)\n/Users/chrishelmus/Library/dss/design/code-envs/python/ml_flow_py37/lib/python3.7/site-packages/sklearn/tree/tree.py:149: DeprecationWarning: `np.int` is a deprecated alias for the builtin `int`. To silence this warning, use `int` by itself. Doing this will not modify any behavior and is safe. When replacing `np.int`, you may wish to use e.g. `np.int64` or `np.int32` to specify the precision. If you wish to review your current use, check the release note link for additional information.\nDeprecated in NumPy 1.20; for more details and guidance: https://numpy.org/devdocs/release/1.20.0-notes.html#deprecations\n  y_encoded \u003d np.zeros(y.shape, dtype\u003dnp.int)\n"
        }
      ]
    },
    {
      "execution_count": 33,
      "cell_type": "code",
      "metadata": {},
      "source": [
        "# #-----------------------------------------------------------------\n# # Score Test Set\n# #-----------------------------------------------------------------\n\n# # load \u0027test\u0027 dataset as a Pandas dataframe\n# df_test \u003d dataiku.Dataset(\"to_assess_prepared\").get_dataframe()\n\n# # Actually score the new records\n# scores \u003d clf.predict_proba(df_test)\n\n# # Reshape\n# preds \u003d pd.DataFrame(scores, index\u003ddf_test.index).rename(columns\u003d{0: \u0027proba_False\u0027, 1: \u0027proba_True\u0027})\n# all_preds \u003d df_test.join(preds)\n\n# # Sample of the test dataset with predicted probabilities\n# all_preds.head()"
      ],
      "outputs": []
    },
    {
      "execution_count": 34,
      "cell_type": "code",
      "metadata": {},
      "source": [
        "# # Compute AUC results\n# auc \u003d roc_auc_score(all_preds[\u0027high_value\u0027].astype(bool).values, all_preds[\u0027proba_True\u0027].values)\n# auc"
      ],
      "outputs": []
    },
    {
      "execution_count": 36,
      "cell_type": "code",
      "metadata": {},
      "source": [
        "# Recipe outputs\ncustom_random_forest \u003d dataiku.Folder(\"OQcQsZpt\").get_path()\n\nfor file in os.listdir(custom_random_forest):\n    try: os.remove(file)\n    except: pass\n\nmlflow.sklearn.save_model(clf, custom_random_forest+\"/cat_boost_model_v1\")"
      ],
      "outputs": []
    },
    {
      "execution_count": 0,
      "cell_type": "code",
      "metadata": {},
      "source": [
        ""
      ],
      "outputs": []
    }
  ]
}