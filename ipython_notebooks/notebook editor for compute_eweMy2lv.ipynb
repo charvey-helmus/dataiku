{
  "metadata": {
    "kernelspec": {
      "display_name": "Python (env ml_flow_py37)",
      "name": "py-dku-venv-ml_flow_py37",
      "language": "python"
    },
    "language_info": {
      "mimetype": "text/x-python",
      "nbconvert_exporter": "python",
      "version": "3.7.13",
      "name": "python",
      "pygments_lexer": "ipython3",
      "file_extension": ".py",
      "codemirror_mode": {
        "version": 3,
        "name": "ipython"
      }
    },
    "tags": [
      "recipe-editor"
    ],
    "associatedRecipe": "compute_eweMy2lv",
    "createdOn": 1649262735316,
    "hide_input": false,
    "customFields": {},
    "creator": "admin",
    "modifiedBy": "admin"
  },
  "nbformat": 4,
  "nbformat_minor": 1,
  "cells": [
    {
      "cell_type": "markdown",
      "metadata": {},
      "source": [
        "# Importing mlflow models in DSS\n\nIn this notebook we show through a simple example how to import a machine learning model trained *entirely out of DSS* into a SavedModel in a project\u0027s Flow. We use the [Catboost]() framework to perform a binary classification task on the [UCI Bank dataset]()."
      ]
    },
    {
      "execution_count": 1,
      "cell_type": "code",
      "metadata": {},
      "source": [
        "import dataiku\nimport dataikuapi\nimport os\n\nfrom dataikuapi.dss.ml import DSSPredictionMLTaskSettings"
      ],
      "outputs": []
    },
    {
      "cell_type": "markdown",
      "metadata": {},
      "source": [
        "## Step 1: train your model outside of DSS\n\nUsing the archive data and source files provided along with this notebook, perform the following actions *outside of DSS*:\n* Create a virtual environment using Python \u003e\u003d 3.6 and install the packages listed in `requirement.txt`\n* Activate the newly-created virtual environment\n* Go to `src/` and train the model by running `python train_catboost.py`. The resulting model artifact will be stored in the `dist/` directory, its name should be of the form `catboost-uci-bank-xxxxxxxx-xxxxxx`.\n\n\u003e **WARNING**: Any pre-processing step applied to the training data **MUST** also be applied to the evaluation data."
      ]
    },
    {
      "cell_type": "markdown",
      "metadata": {},
      "source": [
        "## Step 2: create the code env in DSS\n\nIn the *Administration \u003e Code envs* section of DSS, crate a new code environment and add the packages listed in the archive\u0027s `requirement.txt` file (minus `pandas`), then build the code-env.\n\n\u003e **This notebook should be running using that code env ! **\n\nWrite down the name of that code env, you will need it to call `import_mlflow_version_from_path()`."
      ]
    },
    {
      "cell_type": "markdown",
      "metadata": {},
      "source": [
        "## Step 3: get a handle on a SavedModel"
      ]
    },
    {
      "execution_count": 2,
      "cell_type": "code",
      "metadata": {},
      "source": [
        "client \u003d dataiku.api_client()\nproject \u003d client.get_default_project()\n\n# Get or create SavedModel\nsm_name \u003d \"random-forest\"\nsm_id \u003d None\nfor sm in project.list_saved_models():\n    if sm_name !\u003d sm[\"name\"]:\n        continue\n    else:\n        sm_id \u003d sm[\"id\"]\n        print(\"Found SavedModel {} with id {}\".format(sm_name, sm_id))\n        break\nif sm_id:\n    sm \u003d project.get_saved_model(sm_id)\nelse:\n    sm \u003d project.create_mlflow_pyfunc_model(name\u003dsm_name,\n                                            prediction_type\u003dDSSPredictionMLTaskSettings.PredictionTypes.BINARY)\n    sm_id \u003d sm.id\n    print(\"SavedModel not found, created new one with id {}\".format(sm_id))"
      ],
      "outputs": [
        {
          "output_type": "stream",
          "name": "stdout",
          "text": "SavedModel not found, created new one with id EYknJAXd\n"
        }
      ]
    },
    {
      "cell_type": "markdown",
      "metadata": {},
      "source": [
        "## Step 4: import the evaluation dataset\n\nCreate a new Dataset in your DSS project by uploading `data/uci-bank-marketing/eval_data.csv`. Call this Dataset `eval_data`.\n\n\u003e **WARNING**: The evaluation Dataset **MUST** already be preprocessed using the exact same steps as in step 1 !"
      ]
    },
    {
      "cell_type": "markdown",
      "metadata": {},
      "source": [
        "## Step 5: Import mlflow model into a SavedModel version"
      ]
    },
    {
      "execution_count": 3,
      "cell_type": "code",
      "metadata": {},
      "source": [
        "# Change the following values to match your setup !\nMLFLOW_DIST_DIR \u003d \"/Users/chrishelmus/Library/dss/design/managed_folders/CODER_HANDSON_COMPLETED/OQcQsZpt\"\nCATBOOST_MODEL_DIR \u003d \"cat_boost_model_v1\"\n\nversion_id \u003d \"v01\" # Change this to iterate to a new version\nmodel_dir \u003d os.path.join(MLFLOW_DIST_DIR, CATBOOST_MODEL_DIR)\n\nprint(model_dir)"
      ],
      "outputs": [
        {
          "output_type": "stream",
          "name": "stdout",
          "text": "/Users/chrishelmus/Library/dss/design/managed_folders/CODER_HANDSON_COMPLETED/OQcQsZpt/cat_boost_model_v1\n"
        }
      ]
    },
    {
      "execution_count": 4,
      "cell_type": "code",
      "metadata": {},
      "source": [
        "# Create version in SavedModel\nfor v in sm.list_versions():\n    if v[\"id\"] \u003d\u003d version_id:\n        raise Exception(\"SavedModel version already exists! Choose a new version name.\")\n\nsm_version \u003d sm.import_mlflow_version_from_path(version_id\u003dversion_id,\n                                                path\u003dmodel_dir,\n                                                code_env_name\u003d\"ml_flow_py37\")"
      ],
      "outputs": []
    },
    {
      "execution_count": 0,
      "cell_type": "code",
      "metadata": {},
      "source": [
        "# Evaluate the version using the previously created Dataset\nsm_version.set_core_metadata(target_column_name\u003d\"high_value\",\n                             class_labels\u003d[\"0.0\", \"1.0\"],\n                             get_features_from_dataset\u003d\"target_feedback\")\nsm_version.evaluate(\"eval_data\")"
      ],
      "outputs": []
    },
    {
      "cell_type": "markdown",
      "metadata": {},
      "source": [
        "If you go to the SavedModel\u0027s version screen, you should now be able to see properly all the \"Performance\" visualizations."
      ]
    }
  ]
}