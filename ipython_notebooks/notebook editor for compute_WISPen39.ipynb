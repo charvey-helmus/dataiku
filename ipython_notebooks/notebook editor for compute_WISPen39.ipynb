{
  "metadata": {
    "kernelspec": {
      "name": "py-dku-venv-mlflow",
      "display_name": "Python (env mlflow)",
      "language": "python"
    },
    "associatedRecipe": "compute_WISPen39",
    "creator": "chris.helmus@dataiku.com",
    "createdOn": 1668116383835,
    "tags": [
      "recipe-editor"
    ],
    "customFields": {},
    "hide_input": false,
    "language_info": {
      "name": "python",
      "version": "3.8.12",
      "mimetype": "text/x-python",
      "codemirror_mode": {
        "name": "ipython",
        "version": 3
      },
      "pygments_lexer": "ipython3",
      "nbconvert_exporter": "python",
      "file_extension": ".py"
    },
    "modifiedBy": "chris.helmus@dataiku.com"
  },
  "nbformat": 4,
  "nbformat_minor": 1,
  "cells": [
    {
      "execution_count": 18,
      "cell_type": "code",
      "metadata": {},
      "source": [
        "# -*- coding: utf-8 -*-\nimport dataiku\nimport pandas as pd, numpy as np\nfrom dataiku import pandasutils as pdu\n\n\n\nclient \u003d dataiku.api_client()\n\nproject \u003d client.get_project(\u0027MLFLOWO16N\u0027)\nsm \u003d project.get_saved_model(\"mlflow_model\")\nsm.\n"
      ],
      "outputs": [
        {
          "output_type": "execute_result",
          "execution_count": 18,
          "data": {
            "text/plain": "\u003cdataikuapi.dss.savedmodel.DSSSavedModel at 0x7fa65495e880\u003e"
          },
          "metadata": {}
        }
      ]
    },
    {
      "execution_count": 14,
      "cell_type": "code",
      "metadata": {},
      "source": [
        "sm.import_mlflow_version_from_managed_folder( version_id\u003d\"v01\", managed_folder\u003d\"3hOB5aod\", path\u003d\"sample_autolog/2022_11_10T21_10_57/\",code_env\u003d\u0027mlflow\u0027)\n"
      ],
      "outputs": [
        {
          "output_type": "error",
          "ename": "TypeError",
          "evalue": "import_mlflow_version_from_managed_folder() got an unexpected keyword argument \u0027code_env\u0027",
          "traceback": [
            "\u001b[0;31m---------------------------------------------------------------------------\u001b[0m",
            "\u001b[0;31mTypeError\u001b[0m                                 Traceback (most recent call last)",
            "\u001b[0;32m\u003cipython-input-14-137eb6db2180\u003e\u001b[0m in \u001b[0;36m\u003ccell line: 1\u003e\u001b[0;34m()\u001b[0m\n\u001b[0;32m----\u003e 1\u001b[0;31m \u001b[0msm\u001b[0m\u001b[0;34m.\u001b[0m\u001b[0mimport_mlflow_version_from_managed_folder\u001b[0m\u001b[0;34m(\u001b[0m \u001b[0mversion_id\u001b[0m\u001b[0;34m\u003d\u001b[0m\u001b[0;34m\"v01\"\u001b[0m\u001b[0;34m,\u001b[0m \u001b[0mmanaged_folder\u001b[0m\u001b[0;34m\u003d\u001b[0m\u001b[0;34m\"3hOB5aod\"\u001b[0m\u001b[0;34m,\u001b[0m \u001b[0mpath\u001b[0m\u001b[0;34m\u003d\u001b[0m\u001b[0;34m\"sample_autolog/2022_11_10T21_10_57/\"\u001b[0m\u001b[0;34m,\u001b[0m\u001b[0mcode_env\u001b[0m\u001b[0;34m\u003d\u001b[0m\u001b[0;34m\u0027mlflow\u0027\u001b[0m\u001b[0;34m)\u001b[0m\u001b[0;34m\u001b[0m\u001b[0;34m\u001b[0m\u001b[0m\n\u001b[0m",
            "\u001b[0;31mTypeError\u001b[0m: import_mlflow_version_from_managed_folder() got an unexpected keyword argument \u0027code_env\u0027"
          ]
        }
      ]
    },
    {
      "execution_count": 7,
      "cell_type": "code",
      "metadata": {},
      "source": [
        "my_pkl_model \u003d dataiku.Folder(\"3hOB5aod\")\nmy_pkl_model_info \u003d my_pkl_model.get_info()\n\nsm.import_mlflow_version_from_managed_folder( version_id\u003d\"v01\", managed_folder\u003dXP_TRACKING_FOLDER_ID, path\u003d\"catboost20220516-151555\")\n\n\n\n# Write recipe outputs\noutput_hold \u003d dataiku.Folder(\"WISPen39\")\noutput_hold_info \u003d output_hold.get_info()"
      ],
      "outputs": [
        {
          "output_type": "error",
          "ename": "NameError",
          "evalue": "name \u0027XP_TRACKING_FOLDER_ID\u0027 is not defined",
          "traceback": [
            "\u001b[0;31m---------------------------------------------------------------------------\u001b[0m",
            "\u001b[0;31mNameError\u001b[0m                                 Traceback (most recent call last)",
            "\u001b[0;32m\u003cipython-input-7-434a5595a555\u003e\u001b[0m in \u001b[0;36m\u003ccell line: 4\u003e\u001b[0;34m()\u001b[0m\n\u001b[1;32m      2\u001b[0m \u001b[0mmy_pkl_model_info\u001b[0m \u001b[0;34m\u003d\u001b[0m \u001b[0mmy_pkl_model\u001b[0m\u001b[0;34m.\u001b[0m\u001b[0mget_info\u001b[0m\u001b[0;34m(\u001b[0m\u001b[0;34m)\u001b[0m\u001b[0;34m\u001b[0m\u001b[0;34m\u001b[0m\u001b[0m\n\u001b[1;32m      3\u001b[0m \u001b[0;34m\u001b[0m\u001b[0m\n\u001b[0;32m----\u003e 4\u001b[0;31m \u001b[0msm\u001b[0m\u001b[0;34m.\u001b[0m\u001b[0mimport_mlflow_version_from_managed_folder\u001b[0m\u001b[0;34m(\u001b[0m \u001b[0mversion_id\u001b[0m\u001b[0;34m\u003d\u001b[0m\u001b[0;34m\"v01\"\u001b[0m\u001b[0;34m,\u001b[0m \u001b[0mmanaged_folder\u001b[0m\u001b[0;34m\u003d\u001b[0m\u001b[0mXP_TRACKING_FOLDER_ID\u001b[0m\u001b[0;34m,\u001b[0m \u001b[0mpath\u001b[0m\u001b[0;34m\u003d\u001b[0m\u001b[0;34m\"catboost20220516-151555\"\u001b[0m\u001b[0;34m)\u001b[0m\u001b[0;34m\u001b[0m\u001b[0;34m\u001b[0m\u001b[0m\n\u001b[0m\u001b[1;32m      5\u001b[0m \u001b[0;34m\u001b[0m\u001b[0m\n\u001b[1;32m      6\u001b[0m \u001b[0;34m\u001b[0m\u001b[0m\n",
            "\u001b[0;31mNameError\u001b[0m: name \u0027XP_TRACKING_FOLDER_ID\u0027 is not defined"
          ]
        }
      ]
    },
    {
      "execution_count": 0,
      "cell_type": "code",
      "metadata": {},
      "source": [
        ""
      ],
      "outputs": []
    }
  ]
}