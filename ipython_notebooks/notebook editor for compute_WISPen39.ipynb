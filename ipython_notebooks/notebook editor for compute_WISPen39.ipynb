{
  "metadata": {
    "kernelspec": {
      "name": "py-dku-containerized-venv--cpu-m-1-cpu-4gb-ram",
      "display_name": "Python in CPU-M-1-cpu-4Gb-Ram (builtin env)",
      "language": "python"
    },
    "associatedRecipe": "compute_WISPen39",
    "creator": "chris.helmus@dataiku.com",
    "createdOn": 1668116383835,
    "tags": [
      "recipe-editor"
    ],
    "customFields": {},
    "hide_input": false,
    "modifiedBy": "chris.helmus@dataiku.com"
  },
  "nbformat": 4,
  "nbformat_minor": 1,
  "cells": [
    {
      "execution_count": 0,
      "cell_type": "code",
      "metadata": {},
      "source": [
        "# -*- coding: utf-8 -*-\nimport dataiku\nimport pandas as pd, numpy as np\nfrom dataiku import pandasutils as pdu\nsm \u003d project.get_saved_model(recipe.get_output_names()[0])\n"
      ],
      "outputs": []
    },
    {
      "execution_count": 0,
      "cell_type": "code",
      "metadata": {},
      "source": [
        ""
      ],
      "outputs": []
    },
    {
      "execution_count": 0,
      "cell_type": "code",
      "metadata": {},
      "source": [
        "my_pkl_model \u003d dataiku.Folder(\"3hOB5aod\")\nmy_pkl_model_info \u003d my_pkl_model.get_info()\n\nsm.import_mlflow_version_from_managed_folder( version_id\u003d\"S3_ver\", managed_folder\u003dXP_TRACKING_FOLDER_ID, path\u003d\"catboost20220516-151555\")\n\n\n\n# Write recipe outputs\noutput_hold \u003d dataiku.Folder(\"WISPen39\")\noutput_hold_info \u003d output_hold.get_info()"
      ],
      "outputs": []
    },
    {
      "execution_count": 0,
      "cell_type": "code",
      "metadata": {},
      "source": [
        ""
      ],
      "outputs": []
    }
  ]
}