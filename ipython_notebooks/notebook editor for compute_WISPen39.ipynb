{
  "nbformat": 4,
  "nbformat_minor": 0,
  "metadata": {
    "kernelspec": {
      "display_name": "Python in CPU-M-1-cpu-4Gb-Ram (builtin env)",
      "language": "python",
      "name": "py-dku-containerized-venv--cpu-m-1-cpu-4gb-ram"
    },
    "associatedRecipe": "compute_WISPen39",
    "creator": "chris.helmus@dataiku.com",
    "createdOn": 1668116383835,
    "tags": [
      "recipe-editor"
    ],
    "customFields": {}
  },
  "cells": [
    {
      "cell_type": "code",
      "metadata": {},
      "outputs": [],
      "execution_count": 0,
      "source": [
        "# -*- coding: utf-8 -*-\n",
        "import dataiku\n",
        "import pandas as pd, numpy as np\n",
        "from dataiku import pandasutils as pdu\n",
        "\n",
        "# Read recipe inputs\n",
        "my_pkl_model \u003d dataiku.Folder(\"3hOB5aod\")\n",
        "my_pkl_model_info \u003d my_pkl_model.get_info()\n",
        "\n",
        "sm.import_mlflow_version_from_managed_folder( version_id\u003d\"S3_ver\", managed_folder\u003dXP_TRACKING_FOLDER_ID, path\u003d\"catboost20220516-151555\")\n",
        "\n",
        "\n",
        "\n",
        "# Write recipe outputs\n",
        "output_hold \u003d dataiku.Folder(\"WISPen39\")\n",
        "output_hold_info \u003d output_hold.get_info()"
      ]
    }
  ]
}