{
  "metadata": {
    "kernelspec": {
      "name": "py-dku-venv-mlflow",
      "display_name": "Python (env mlflow)",
      "language": "python"
    },
    "associatedRecipe": "compute_WISPen39",
    "creator": "chris.helmus@dataiku.com",
    "createdOn": 1668116383835,
    "tags": [
      "recipe-editor"
    ],
    "customFields": {},
    "hide_input": false,
    "language_info": {
      "name": "python",
      "version": "3.8.12",
      "mimetype": "text/x-python",
      "codemirror_mode": {
        "name": "ipython",
        "version": 3
      },
      "pygments_lexer": "ipython3",
      "nbconvert_exporter": "python",
      "file_extension": ".py"
    },
    "modifiedBy": "chris.helmus@dataiku.com"
  },
  "nbformat": 4,
  "nbformat_minor": 1,
  "cells": [
    {
      "execution_count": 3,
      "cell_type": "code",
      "metadata": {},
      "source": [
        "# -*- coding: utf-8 -*-\nimport dataiku\nimport pandas as pd, numpy as np\nfrom dataiku import pandasutils as pdu\n\n\n\nclient \u003d dataiku.api_client()\n\nproject \u003d client.get_project(\u0027MLFLOWO16N\u0027)\nsm \u003d project.get_saved_model(\"mlflow_model\")\n"
      ],
      "outputs": []
    },
    {
      "execution_count": 0,
      "cell_type": "code",
      "metadata": {},
      "source": [
        "sm.import_mlflow_version_from_managed_folder( version_id\u003d\"S3_ver\", managed_folder\u003d\"3hOB5aod\", path\u003d\"sample_autolog/2022_11_10T21_10_57\")\n"
      ],
      "outputs": []
    },
    {
      "execution_count": 0,
      "cell_type": "code",
      "metadata": {},
      "source": [
        "my_pkl_model \u003d dataiku.Folder(\"3hOB5aod\")\nmy_pkl_model_info \u003d my_pkl_model.get_info()\n\nsm.import_mlflow_version_from_managed_folder( version_id\u003d\"S3_ver\", managed_folder\u003dXP_TRACKING_FOLDER_ID, path\u003d\"catboost20220516-151555\")\n\n\n\n# Write recipe outputs\noutput_hold \u003d dataiku.Folder(\"WISPen39\")\noutput_hold_info \u003d output_hold.get_info()"
      ],
      "outputs": []
    },
    {
      "execution_count": 0,
      "cell_type": "code",
      "metadata": {},
      "source": [
        ""
      ],
      "outputs": []
    }
  ]
}