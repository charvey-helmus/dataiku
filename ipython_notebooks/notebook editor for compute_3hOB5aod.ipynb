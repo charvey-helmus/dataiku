{
  "nbformat": 4,
  "nbformat_minor": 0,
  "metadata": {
    "kernelspec": {
      "display_name": "Python in CPU-XL-2-cpu-16Gb-Ram (env mlflow)",
      "language": "python",
      "name": "py-dku-containerized-venv-mlflow-cpu-xl-2-cpu-16gb-ram"
    },
    "associatedRecipe": "compute_3hOB5aod",
    "creator": "chris.helmus@dataiku.com",
    "createdOn": 1668099364331,
    "tags": [
      "recipe-editor"
    ],
    "customFields": {}
  },
  "cells": [
    {
      "cell_type": "code",
      "metadata": {},
      "outputs": [],
      "execution_count": 0,
      "source": [
        "import dataiku\n",
        "from dataiku import pandasutils as pdu\n",
        "import pandas as pd, numpy as np"
      ]
    },
    {
      "cell_type": "code",
      "metadata": {},
      "outputs": [],
      "execution_count": 0,
      "source": [
        "from sklearn.pipeline import Pipeline\n",
        "from sklearn.impute import SimpleImputer\n",
        "from sklearn.preprocessing import StandardScaler, OneHotEncoder\n",
        "from sklearn.compose import ColumnTransformer\n",
        "from sklearn.ensemble import RandomForestClassifier\n",
        "from sklearn.model_selection import GridSearchCV\n",
        "from sklearn.metrics import roc_auc_score"
      ]
    },
    {
      "cell_type": "code",
      "metadata": {},
      "outputs": [],
      "execution_count": 0,
      "source": [
        "# load \u0027train\u0027 dataset as a Pandas dataframe\n",
        "df \u003d dataiku.Dataset(\"flight_data\").get_dataframe()"
      ]
    },
    {
      "cell_type": "code",
      "metadata": {},
      "outputs": [],
      "execution_count": 0,
      "source": [
        "#-----------------------------------------------------------------\n",
        "# Dataset Settings\n",
        "#-----------------------------------------------------------------\n",
        "\n",
        "# Select a subset of features to use for training\n",
        "SCHEMA \u003d {\n",
        "    \u0027target\u0027: \u0027Late\u0027,\n",
        "    \u0027features_num\u0027: [\u0027dep_month\u0027, \u0027dep_woy\u0027, \u0027dep_hour\u0027,\u0027Distance\u0027,\u0027Late_avg\u0027],\n",
        "    \u0027features_cat\u0027: [\u0027UniqueCarrier\u0027, \u0027Origin\u0027,\u0027Dest\u0027]\n",
        "}"
      ]
    },
    {
      "cell_type": "code",
      "metadata": {},
      "outputs": [],
      "execution_count": 0,
      "source": [
        "#-----------------------------------------------------------------\n",
        "# Preprocessing on Training Set\n",
        "#-----------------------------------------------------------------\n",
        "\n",
        "# Numerical variables\n",
        "df_num \u003d df[SCHEMA[\u0027features_num\u0027]]\n",
        "\n",
        "trf_num \u003d Pipeline([\n",
        "    (\u0027imp\u0027, SimpleImputer(strategy\u003d\u0027mean\u0027)),\n",
        "    (\u0027sts\u0027, StandardScaler()),\n",
        "])\n",
        "\n",
        "# Categorical variables\n",
        "df_cat \u003d df[SCHEMA[\u0027features_cat\u0027]]\n",
        "\n",
        "trf_cat \u003d OneHotEncoder(handle_unknown\u003d\"ignore\")\n",
        "\n",
        "preprocessor \u003d ColumnTransformer(\n",
        "    transformers\u003d[\n",
        "        (\"num\", trf_num, SCHEMA[\u0027features_num\u0027]),\n",
        "        (\"cat\", trf_cat, SCHEMA[\u0027features_cat\u0027])\n",
        "    ]\n",
        ")"
      ]
    },
    {
      "cell_type": "code",
      "metadata": {},
      "outputs": [],
      "execution_count": 0,
      "source": [
        "#-------------------------------------------------------------------------\n",
        "# TRAINING\n",
        "#-------------------------------------------------------------------------\n",
        "##### TO-DO: add experiment tracking code here\n",
        "##### but watch out for lineage (don\u0027t use the deploy button from the xperiment tracking UI)\n",
        "\n",
        "clf \u003d Pipeline(\n",
        "    steps\u003d[(\"preprocessor\", preprocessor), (\"clf\", RandomForestClassifier())]\n",
        ")\n",
        "\n",
        "param_grid \u003d {\n",
        "    \"clf__max_depth\"        : [3, None],\n",
        "    \"clf__max_features\"     : [1, 3],\n",
        "    \"clf__min_samples_split\": [2],\n",
        "    \"clf__min_samples_leaf\" : [1],\n",
        "    \"clf__bootstrap\"        : [True, False],\n",
        "    \"clf__criterion\"        : [\"gini\", \"entropy\"],\n",
        "    \"clf__n_estimators\"     : [10]\n",
        "}\n",
        "\n",
        "gs \u003d GridSearchCV(clf, param_grid\u003dparam_grid, n_jobs\u003d-1, scoring\u003d\u0027roc_auc\u0027, cv\u003d3)\n",
        "X \u003d df[SCHEMA[\u0027features_num\u0027] + SCHEMA[\u0027features_cat\u0027]]\n",
        "Y \u003d df[SCHEMA[\u0027target\u0027]].values\n",
        "gs.fit(X, Y)\n",
        "clf \u003d gs.best_estimator_"
      ]
    },
    {
      "cell_type": "code",
      "metadata": {},
      "outputs": [],
      "execution_count": 0,
      "source": [
        "# #-----------------------------------------------------------------\n",
        "# # Score Test Set\n",
        "# #-----------------------------------------------------------------\n",
        "\n",
        "# # load \u0027test\u0027 dataset as a Pandas dataframe\n",
        "# df_test \u003d dataiku.Dataset(\"evaluation_data\").get_dataframe()\n",
        "\n",
        "# # Actually score the new records\n",
        "# scores \u003d clf.predict_proba(df_test)\n",
        "\n",
        "# # Reshape\n",
        "# preds \u003d pd.DataFrame(scores, index\u003ddf_test.index).rename(columns\u003d{0: \u0027proba_False\u0027, 1: \u0027proba_True\u0027})\n",
        "# all_preds \u003d df_test.join(preds)\n",
        "\n",
        "# # Sample of the test dataset with predicted probabilities\n",
        "# all_preds.head()"
      ]
    },
    {
      "cell_type": "code",
      "metadata": {},
      "outputs": [],
      "execution_count": 0,
      "source": [
        "# # Compute AUC results\n",
        "# auc \u003d roc_auc_score(all_preds[\u0027high_value\u0027].astype(bool).values, all_preds[\u0027proba_True\u0027].values)\n",
        "# auc"
      ]
    },
    {
      "cell_type": "code",
      "metadata": {},
      "outputs": [],
      "execution_count": 0,
      "source": [
        "# Recipe outputs\n",
        "mlflow_models \u003d dataiku.Folder(\"3hOB5aod\").get_path()"
      ]
    },
    {
      "cell_type": "code",
      "metadata": {},
      "outputs": [],
      "execution_count": 0,
      "source": [
        "import mlflow"
      ]
    },
    {
      "cell_type": "code",
      "metadata": {},
      "outputs": [],
      "execution_count": 0,
      "source": [
        "#Save models as mlflow models to a folder\n",
        "from datetime import datetime\n",
        "import os\n",
        "ts \u003d datetime.now().strftime(\"%Y%m%d-%H%M%S\")\n",
        "model_dir \u003d mlflow_models + \"/custom-random-forest-{}\".format(ts)\n",
        "mlflow.sklearn.save_model(clf, model_dir)\n",
        "print(\"Model saved at {} !\".format(os.path.abspath(model_dir)))"
      ]
    },
    {
      "cell_type": "code",
      "metadata": {},
      "outputs": [],
      "execution_count": 0,
      "source": [
        "import dataikuapi\n",
        "\n",
        "client \u003d dataiku.api_client()\n",
        "project \u003d client.get_default_project()\n",
        "\n",
        "# Get or create saved models\n",
        "if dataiku.get_custom_variables()[\"saved_model_id\"] \u003d\u003d \"\":\n",
        "    saved_model \u003d project.create_mlflow_pyfunc_model(\"mlflow_model\", \"BINARY_CLASSIFICATION\")\n",
        "    project.update_variables({\"saved_model_id\": saved_model.id})\n",
        "else:\n",
        "    saved_model \u003d project.get_saved_model(dataiku.get_custom_variables()[\"saved_model_id\"])\n",
        "\n",
        "mlflow_version \u003d saved_model.import_mlflow_version_from_path(dataiku.get_custom_variables()[\"custom_model_version\"], model_dir, code_env_name\u003d\"ml_flow_py37\")\n",
        "project.update_variables({\"custom_model_version\": int(dataiku.get_custom_variables()[\"custom_model_version\"]) + 1})"
      ]
    },
    {
      "cell_type": "code",
      "metadata": {},
      "outputs": [],
      "execution_count": 0,
      "source": [
        "mlflow_version.set_core_metadata(SCHEMA[\u0027target\u0027], class_labels\u003d[\"false\", \"true\"], get_features_from_dataset\u003d\"flight_ground_truth\")\n",
        "mlflow_version.evaluate(\"flight_ground_truth\")"
      ]
    }
  ]
}