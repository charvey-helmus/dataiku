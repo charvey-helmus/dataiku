{
  "metadata": {
    "kernelspec": {
      "name": "py-dku-containerized-venv-mlflow-cpu-4-ram32gb",
      "display_name": "Python in CPU-4-RAM32Gb (env mlflow)",
      "language": "python"
    },
    "associatedRecipe": "compute_3hOB5aod",
    "dkuGit": {
      "lastInteraction": 0
    },
    "creationTag": {
      "versionNumber": 0,
      "lastModifiedBy": {
        "login": "chris.helmus@dataiku.com"
      },
      "lastModifiedOn": 1668099364331
    },
    "creator": "chris.helmus@dataiku.com",
    "createdOn": 1668099364331,
    "tags": [
      "recipe-editor"
    ],
    "customFields": {},
    "hide_input": false,
    "language_info": {
      "name": "python",
      "version": "3.8.12",
      "mimetype": "text/x-python",
      "codemirror_mode": {
        "name": "ipython",
        "version": 3
      },
      "pygments_lexer": "ipython3",
      "nbconvert_exporter": "python",
      "file_extension": ".py"
    },
    "modifiedBy": "chris.helmus@dataiku.com"
  },
  "nbformat": 4,
  "nbformat_minor": 1,
  "cells": [
    {
      "execution_count": 1,
      "cell_type": "code",
      "metadata": {},
      "source": [
        "# -*- coding: utf-8 -*-\nimport dataiku\nimport pandas as pd, numpy as np\nfrom dataiku import pandasutils as pdu\nfrom sklearn.pipeline import Pipeline\nfrom sklearn.impute import SimpleImputer\nfrom sklearn.preprocessing import StandardScaler, OneHotEncoder\nfrom sklearn.compose import ColumnTransformer\nfrom sklearn.ensemble import RandomForestClassifier\nfrom sklearn.model_selection import GridSearchCV\nfrom sklearn.metrics import roc_auc_score\n# Read recipe inputs\nflight_joined_prepared \u003d dataiku.Dataset(\"flight_data\")\ndf \u003d flight_joined_prepared.get_dataframe()"
      ],
      "outputs": []
    },
    {
      "execution_count": 2,
      "cell_type": "code",
      "metadata": {},
      "source": [
        "#-----------------------------------------------------------------\n# Dataset Settings\n#-----------------------------------------------------------------\n\n# Select a subset of features to use for training\nSCHEMA \u003d {\n    \u0027target\u0027: \u0027Late\u0027,\n    \u0027features_num\u0027: [\u0027dep_month\u0027, \u0027dep_woy\u0027, \u0027dep_hour\u0027,\u0027Distance\u0027,\u0027Late_avg\u0027],\n    \u0027features_cat\u0027: [\u0027UniqueCarrier\u0027, \u0027Origin\u0027,\u0027Dest\u0027]\n}"
      ],
      "outputs": []
    },
    {
      "execution_count": 3,
      "cell_type": "code",
      "metadata": {},
      "source": [
        "#-----------------------------------------------------------------\n# Preprocessing on Training Set\n#-----------------------------------------------------------------\n\n# Numerical variables\ndf_num \u003d df[SCHEMA[\u0027features_num\u0027]]\n\ntrf_num \u003d Pipeline([\n    (\u0027imp\u0027, SimpleImputer(strategy\u003d\u0027mean\u0027)),\n    (\u0027sts\u0027, StandardScaler()),\n])\n\n# Categorical variables\ndf_cat \u003d df[SCHEMA[\u0027features_cat\u0027]]\n\ntrf_cat \u003d OneHotEncoder(handle_unknown\u003d\"ignore\")\n\npreprocessor \u003d ColumnTransformer(\n    transformers\u003d[\n        (\"num\", trf_num, SCHEMA[\u0027features_num\u0027]),\n        (\"cat\", trf_cat, SCHEMA[\u0027features_cat\u0027])\n    ]\n)"
      ],
      "outputs": []
    },
    {
      "execution_count": 4,
      "cell_type": "code",
      "metadata": {},
      "source": [
        "import dataiku\nimport mlflow\n\n\nproject \u003d dataiku.api_client().get_default_project()\nmanaged_folder \u003d project.get_managed_folder(\u00273hOB5aod\u0027)\n\nwith project.setup_mlflow(managed_folder\u003dmanaged_folder) as mlflow:\n    mlflow.set_experiment(\"experiment_2\")\n\n    # activate Mflow autologging\n    mlflow.sklearn.autolog()\n\n    with mlflow.start_run(run_name\u003d\"my_run\"):\n        clf \u003d Pipeline(steps\u003d[(\"preprocessor\", preprocessor), (\"clf\", RandomForestClassifier())])\n\n        param_grid \u003d {\n            \"clf__max_depth\"        : [3],\n            \"clf__max_features\"     : [1],\n            \"clf__min_samples_split\": [2],\n            \"clf__min_samples_leaf\" : [1],\n            \"clf__bootstrap\"        : [False],\n            \"clf__criterion\"        : [\"gini\"],\n            \"clf__n_estimators\"     : [10]\n        }\n\n        gs \u003d GridSearchCV(clf, param_grid\u003dparam_grid, n_jobs\u003d-1, scoring\u003d\u0027roc_auc\u0027, cv\u003d3)\n        X \u003d df[SCHEMA[\u0027features_num\u0027] + SCHEMA[\u0027features_cat\u0027]]\n        Y \u003d df[SCHEMA[\u0027target\u0027]].values\n        gs.fit(X, Y)\n        clf \u003d gs.best_estimator_"
      ],
      "outputs": [
        {
          "output_type": "stream",
          "text": "/opt/dataiku/code-env/lib/python3.8/site-packages/pkg_resources/__init__.py:1130: DeprecationWarning: Use of .. or absolute path in a resource path is not allowed and will raise exceptions in a future release.\n  return get_provider(package_or_requirement).get_resource_filename(\n/opt/dataiku/code-env/lib/python3.8/site-packages/mlflow/types/schema.py:49: DeprecationWarning: `np.object` is a deprecated alias for the builtin `object`. To silence this warning, use `object` by itself. Doing this will not modify any behavior and is safe. \nDeprecated in NumPy 1.20; for more details and guidance: https://numpy.org/devdocs/release/1.20.0-notes.html#deprecations\n  binary \u003d (7, np.dtype(\"bytes\"), \"BinaryType\", np.object)\n/opt/dataiku/python/dataikuapi/dss_plugin_mlflow/artifact_repository.py:13: DeprecationWarning: invalid escape sequence \\w\n  pattern \u003d re.compile(\"^(\\w+\\.)?\\w{8}\")\n",
          "name": "stderr"
        },
        {
          "output_type": "stream",
          "text": "INFO: \u0027experiment_2\u0027 does not exist. Creating a new experiment\n",
          "name": "stdout"
        },
        {
          "output_type": "stream",
          "text": "2022/11/11 00:43:09 WARNING mlflow.utils.autologging_utils: You are using an unsupported version of sklearn. If you encounter errors during autologging, try upgrading / downgrading sklearn to a supported version, or try upgrading MLflow.\n2022/11/11 00:43:10 WARNING mlflow.utils: Truncated the value of the key `estimator`. Truncated value: `Pipeline(steps\u003d[(\u0027preprocessor\u0027,\n                 ColumnTransformer(transformers\u003d[(\u0027num\u0027,\n                                                  Pipeline(steps\u003d[(\u0027imp\u0027,\n                                                                   SimpleImputer())...`\n/opt/dataiku/code-env/lib/python3.8/site-packages/sklearn/metrics/_classification.py:1334: UndefinedMetricWarning: Precision is ill-defined and being set to 0.0 in labels with no predicted samples. Use `zero_division` parameter to control this behavior.\n  _warn_prf(average, modifier, msg_start, len(result))\n2022/11/11 00:43:17 WARNING mlflow.utils.autologging_utils: MLflow autologging encountered a warning: \"/opt/dataiku/code-env/lib/python3.8/site-packages/sklearn/utils/deprecation.py:87: FutureWarning: Function plot_confusion_matrix is deprecated; Function `plot_confusion_matrix` is deprecated in 1.0 and will be removed in 1.2. Use one of the class methods: ConfusionMatrixDisplay.from_predictions or ConfusionMatrixDisplay.from_estimator.\"\n2022/11/11 00:43:17 WARNING mlflow.sklearn.utils: plot_confusion_matrix failed. The artifact training_confusion_matrix will not be recorded. Artifact error: plot_confusion_matrix requires matplotlib. You can install matplotlib with `pip install matplotlib`\n2022/11/11 00:43:17 WARNING mlflow.utils.autologging_utils: MLflow autologging encountered a warning: \"/opt/dataiku/code-env/lib/python3.8/site-packages/sklearn/utils/deprecation.py:87: FutureWarning: Function plot_roc_curve is deprecated; Function :func:`plot_roc_curve` is deprecated in 1.0 and will be removed in 1.2. Use one of the class methods: :meth:`sklearn.metrics.RocCurveDisplay.from_predictions` or :meth:`sklearn.metrics.RocCurveDisplay.from_estimator`.\"\n2022/11/11 00:43:17 WARNING mlflow.sklearn.utils: plot_roc_curve failed. The artifact training_roc_curve will not be recorded. Artifact error: plot_roc_curve requires matplotlib. You can install matplotlib with `pip install matplotlib`\n2022/11/11 00:43:17 WARNING mlflow.utils.autologging_utils: MLflow autologging encountered a warning: \"/opt/dataiku/code-env/lib/python3.8/site-packages/sklearn/utils/deprecation.py:87: FutureWarning: Function plot_precision_recall_curve is deprecated; Function `plot_precision_recall_curve` is deprecated in 1.0 and will be removed in 1.2. Use one of the class methods: PrecisionRecallDisplay.from_predictions or PrecisionRecallDisplay.from_estimator.\"\n2022/11/11 00:43:17 WARNING mlflow.sklearn.utils: plot_precision_recall_curve failed. The artifact training_precision_recall_curve will not be recorded. Artifact error: plot_precision_recall_curve requires matplotlib. You can install matplotlib with `pip install matplotlib`\n2022/11/11 00:43:17 WARNING mlflow.utils.autologging_utils: MLflow autologging encountered a warning: \"/opt/dataiku/code-env/lib/python3.8/site-packages/mlflow/types/utils.py:139: DeprecationWarning: ``mlflow.types.schema.column_types`` is deprecated since 1.14. This method will be removed in a near future release. Use ``mlflow.types.Schema.input_types`` instead.\"\n2022/11/11 00:43:17 WARNING mlflow.utils.autologging_utils: MLflow autologging encountered a warning: \"/opt/dataiku/code-env/lib/python3.8/site-packages/mlflow/types/schema.py:366: DeprecationWarning: ``mlflow.types.schema.columns`` is deprecated since 1.14. This method will be removed in a near future release. Use ``mlflow.types.Schema.inputs`` instead.\"\n2022/11/11 00:43:17 WARNING mlflow.utils.autologging_utils: MLflow autologging encountered a warning: \"/opt/dataiku/code-env/lib/python3.8/site-packages/mlflow/models/signature.py:129: UserWarning: Hint: Inferred schema contains integer column(s). Integer columns in Python cannot represent missing values. If your input data contains missing values at inference time, it will be encoded as floats and will cause a schema enforcement error. The best way to avoid this problem is to infer the model schema based on a realistic data sample (training dataset) that includes missing values. Alternatively, you can declare integer columns as doubles (float64) whenever these columns may have missing values. See `Handling Integers With Missing Values \u003chttps://www.mlflow.org/docs/latest/models.html#handling-integers-with-missing-values\u003e`_ for more details.\"\n2022/11/11 00:43:17 WARNING mlflow.utils.autologging_utils: MLflow autologging encountered a warning: \"/opt/dataiku/code-env/lib/python3.8/site-packages/pkg_resources/__init__.py:1130: DeprecationWarning: Use of .. or absolute path in a resource path is not allowed and will raise exceptions in a future release.\"\n2022/11/11 00:43:26 INFO mlflow.sklearn.utils: Logging the 5 best runs, no runs will be omitted.\n2022/11/11 00:43:26 WARNING mlflow.utils: Truncated the value of the key `steps`. Truncated value: `[(\u0027preprocessor\u0027, ColumnTransformer(transformers\u003d[(\u0027num\u0027,\n                                 Pipeline(steps\u003d[(\u0027imp\u0027, SimpleImputer()),\n                                                 (\u0027sts\u0027, StandardScaler())]),\n                                 [\u0027d...`\n2022/11/11 00:43:26 WARNING mlflow.utils: Truncated the value of the key `preprocessor`. Truncated value: `ColumnTransformer(transformers\u003d[(\u0027num\u0027,\n                                 Pipeline(steps\u003d[(\u0027imp\u0027, SimpleImputer()),\n                                                 (\u0027sts\u0027, StandardScaler())]),\n                                 [\u0027dep_month\u0027, \u0027dep_wo...`\n",
          "name": "stderr"
        }
      ]
    },
    {
      "execution_count": 5,
      "cell_type": "code",
      "metadata": {},
      "source": [
        "client \u003d dataiku.api_client()\nproject \u003d client.get_project(\u0027MLFLOWO16N\u0027)\n# Get or create saved models\nif dataiku.get_custom_variables()[\"saved_model_id\"] \u003d\u003d \"\":\n    saved_model \u003d project.create_mlflow_pyfunc_model(\"mlflow_model\", \"BINARY_CLASSIFICATION\")\n    project.update_variables({\"saved_model_id\": saved_model.id})\nelse:\n    saved_model \u003d project.get_saved_model(dataiku.get_custom_variables()[\"saved_model_id\"])"
      ],
      "outputs": []
    },
    {
      "execution_count": 0,
      "cell_type": "code",
      "metadata": {},
      "source": [
        "mlflow_version \u003d saved_model.import_mlflow_version_from_managed_folder(dataiku.get_custom_variables()[\"custom_model_version\"], \"3hOB5aod\", \u0027let_s_autolog/2022_11_11T00_07_39/artifacts/model\u0027,code_env_name\u003d\"mlflow\")"
      ],
      "outputs": []
    },
    {
      "execution_count": 0,
      "cell_type": "code",
      "metadata": {},
      "source": [
        "mlflow_version.set_core_metadata(SCHEMA[\u0027target\u0027], class_labels\u003d[\"false\", \"true\"], get_features_from_dataset\u003d\"flight_data\")\nmlflow_version.evaluate(\"flight_data\")"
      ],
      "outputs": []
    }
  ]
}