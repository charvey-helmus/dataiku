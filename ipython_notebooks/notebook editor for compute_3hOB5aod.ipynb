{
  "metadata": {
    "kernelspec": {
      "name": "py-dku-venv-mlflow_latest",
      "display_name": "Python (env mlflow_latest)",
      "language": "python"
    },
    "associatedRecipe": "compute_3hOB5aod",
    "dkuGit": {
      "lastInteraction": 0
    },
    "creationTag": {
      "versionNumber": 0,
      "lastModifiedBy": {
        "login": "chris.helmus@dataiku.com"
      },
      "lastModifiedOn": 1668099364331
    },
    "creator": "chris.helmus@dataiku.com",
    "createdOn": 1668099364331,
    "tags": [
      "recipe-editor"
    ],
    "customFields": {},
    "hide_input": false,
    "language_info": {
      "name": "python",
      "version": "3.8.12",
      "mimetype": "text/x-python",
      "codemirror_mode": {
        "name": "ipython",
        "version": 3
      },
      "pygments_lexer": "ipython3",
      "nbconvert_exporter": "python",
      "file_extension": ".py"
    },
    "modifiedBy": "chris.helmus@dataiku.com"
  },
  "nbformat": 4,
  "nbformat_minor": 1,
  "cells": [
    {
      "execution_count": 0,
      "cell_type": "code",
      "metadata": {},
      "source": [
        "# -*- coding: utf-8 -*-\nimport dataiku\nimport pandas as pd, numpy as np\nfrom dataiku import pandasutils as pdu\nfrom sklearn.pipeline import Pipeline\nfrom sklearn.impute import SimpleImputer\nfrom sklearn.preprocessing import StandardScaler, OneHotEncoder\nfrom sklearn.compose import ColumnTransformer\nfrom sklearn.ensemble import RandomForestClassifier\nfrom sklearn.model_selection import GridSearchCV\nfrom sklearn.metrics import roc_auc_score\n# Read recipe inputs\nflight_joined_prepared \u003d dataiku.Dataset(\"flight_data\")\ndf \u003d flight_joined_prepared.get_dataframe()"
      ],
      "outputs": []
    },
    {
      "execution_count": 0,
      "cell_type": "code",
      "metadata": {},
      "source": [
        "#-----------------------------------------------------------------\n# Dataset Settings\n#-----------------------------------------------------------------\n\n# Select a subset of features to use for training\nSCHEMA \u003d {\n    \u0027target\u0027: \u0027Late\u0027,\n    \u0027features_num\u0027: [\u0027dep_month\u0027, \u0027dep_woy\u0027, \u0027dep_hour\u0027,\u0027Distance\u0027,\u0027Late_avg\u0027],\n    \u0027features_cat\u0027: [\u0027UniqueCarrier\u0027, \u0027Origin\u0027,\u0027Dest\u0027]\n}"
      ],
      "outputs": []
    },
    {
      "execution_count": 0,
      "cell_type": "code",
      "metadata": {},
      "source": [
        "#-----------------------------------------------------------------\n# Preprocessing on Training Set\n#-----------------------------------------------------------------\n\n# Numerical variables\ndf_num \u003d df[SCHEMA[\u0027features_num\u0027]]\n\ntrf_num \u003d Pipeline([\n    (\u0027imp\u0027, SimpleImputer(strategy\u003d\u0027mean\u0027)),\n    (\u0027sts\u0027, StandardScaler()),\n])\n\n# Categorical variables\ndf_cat \u003d df[SCHEMA[\u0027features_cat\u0027]]\n\ntrf_cat \u003d OneHotEncoder(handle_unknown\u003d\"ignore\")\n\npreprocessor \u003d ColumnTransformer(\n    transformers\u003d[\n        (\"num\", trf_num, SCHEMA[\u0027features_num\u0027]),\n        (\"cat\", trf_cat, SCHEMA[\u0027features_cat\u0027])\n    ]\n)"
      ],
      "outputs": []
    },
    {
      "execution_count": 0,
      "cell_type": "code",
      "metadata": {},
      "source": [
        "import dataiku\nimport mlflow\n\n\nproject \u003d dataiku.api_client().get_default_project()\nmanaged_folder \u003d project.get_managed_folder(\u00273hOB5aod\u0027)\n\nwith project.setup_mlflow(managed_folder\u003dmanaged_folder) as mlflow:\n    mlflow.set_experiment(\"experiment_2\")\n\n    # activate Mflow autologging\n    mlflow.sklearn.autolog()\n\n    with mlflow.start_run(run_name\u003d\"my_run\"):\n        clf \u003d Pipeline(steps\u003d[(\"preprocessor\", preprocessor), (\"clf\", RandomForestClassifier())])\n\n        param_grid \u003d {\n            \"clf__max_depth\"        : [3],\n            \"clf__max_features\"     : [1],\n            \"clf__min_samples_split\": [2],\n            \"clf__min_samples_leaf\" : [1],\n            \"clf__bootstrap\"        : [False],\n            \"clf__criterion\"        : [\"gini\"],\n            \"clf__n_estimators\"     : [10]\n        }\n\n        gs \u003d GridSearchCV(clf, param_grid\u003dparam_grid, n_jobs\u003d-1, scoring\u003d\u0027roc_auc\u0027, cv\u003d3)\n        X \u003d df[SCHEMA[\u0027features_num\u0027] + SCHEMA[\u0027features_cat\u0027]]\n        Y \u003d df[SCHEMA[\u0027target\u0027]].values\n        gs.fit(X, Y)\n        clf \u003d gs.best_estimator_"
      ],
      "outputs": []
    },
    {
      "execution_count": 0,
      "cell_type": "code",
      "metadata": {},
      "source": [
        "client \u003d dataiku.api_client()\nproject \u003d client.get_project(\u0027MLFLOWO16N\u0027)\n# Get or create saved models\nif dataiku.get_custom_variables()[\"saved_model_id\"] \u003d\u003d \"\":\n    saved_model \u003d project.create_mlflow_pyfunc_model(\"mlflow_model\", \"BINARY_CLASSIFICATION\")\n    project.update_variables({\"saved_model_id\": saved_model.id})\nelse:\n    saved_model \u003d project.get_saved_model(dataiku.get_custom_variables()[\"saved_model_id\"])"
      ],
      "outputs": []
    },
    {
      "execution_count": 0,
      "cell_type": "code",
      "metadata": {},
      "source": [
        "mlflow_version \u003d saved_model.import_mlflow_version_from_managed_folder(dataiku.get_custom_variables()[\"custom_model_version\"], \"3hOB5aod\", \u0027experiment_2/my_run_jHL/artifacts/model/\u0027,code_env_name\u003d\"mlflow_latest\")\nproject.update_variables({\"custom_model_version\": int(dataiku.get_custom_variables()[\"custom_model_version\"]) + 1})"
      ],
      "outputs": []
    },
    {
      "execution_count": 0,
      "cell_type": "code",
      "metadata": {},
      "source": [
        "mlflow_version.set_core_metadata(SCHEMA[\u0027target\u0027], class_labels\u003d[\"False\", \"True\"], get_features_from_dataset\u003d\"flight_ground_truth_prepared\")\nmlflow_version.evaluate(\"flight_ground_truth_prepared\")"
      ],
      "outputs": []
    },
    {
      "execution_count": 5,
      "cell_type": "code",
      "metadata": {},
      "source": [
        "import dataiku\nhandle \u003d dataiku.Folder(\"3hOB5aod\")\n# pass a partition identifier if the folder is partitioned\npaths \u003d handle.list_paths_in_partition()\npaths"
      ],
      "outputs": [
        {
          "output_type": "execute_result",
          "execution_count": 5,
          "data": {
            "text/plain": "[\u0027/experiment_2/my_run/artifacts/best_estimator/MLmodel\u0027,\n \u0027/experiment_2/my_run/artifacts/best_estimator/conda.yaml\u0027,\n \u0027/experiment_2/my_run/artifacts/best_estimator/model.pkl\u0027,\n \u0027/experiment_2/my_run/artifacts/best_estimator/requirements.txt\u0027,\n \u0027/experiment_2/my_run/artifacts/cv_results.csv\u0027,\n \u0027/experiment_2/my_run/artifacts/model/MLmodel\u0027,\n \u0027/experiment_2/my_run/artifacts/model/conda.yaml\u0027,\n \u0027/experiment_2/my_run/artifacts/model/model.pkl\u0027,\n \u0027/experiment_2/my_run/artifacts/model/requirements.txt\u0027,\n \u0027/experiment_2/my_run_4Nm/artifacts/best_estimator/MLmodel\u0027,\n \u0027/experiment_2/my_run_4Nm/artifacts/best_estimator/conda.yaml\u0027,\n \u0027/experiment_2/my_run_4Nm/artifacts/best_estimator/model.pkl\u0027,\n \u0027/experiment_2/my_run_4Nm/artifacts/best_estimator/python_env.yaml\u0027,\n \u0027/experiment_2/my_run_4Nm/artifacts/best_estimator/requirements.txt\u0027,\n \u0027/experiment_2/my_run_4Nm/artifacts/cv_results.csv\u0027,\n \u0027/experiment_2/my_run_4Nm/artifacts/estimator.html\u0027,\n \u0027/experiment_2/my_run_4Nm/artifacts/model/MLmodel\u0027,\n \u0027/experiment_2/my_run_4Nm/artifacts/model/conda.yaml\u0027,\n \u0027/experiment_2/my_run_4Nm/artifacts/model/model.pkl\u0027,\n \u0027/experiment_2/my_run_4Nm/artifacts/model/python_env.yaml\u0027,\n \u0027/experiment_2/my_run_4Nm/artifacts/model/requirements.txt\u0027,\n \u0027/experiment_2/my_run_4Nm/artifacts/training_confusion_matrix.png\u0027,\n \u0027/experiment_2/my_run_4Nm/artifacts/training_precision_recall_curve.png\u0027,\n \u0027/experiment_2/my_run_4Nm/artifacts/training_roc_curve.png\u0027,\n \u0027/experiment_2/my_run_K4w/artifacts/best_estimator/MLmodel\u0027,\n \u0027/experiment_2/my_run_K4w/artifacts/best_estimator/conda.yaml\u0027,\n \u0027/experiment_2/my_run_K4w/artifacts/best_estimator/model.pkl\u0027,\n \u0027/experiment_2/my_run_K4w/artifacts/best_estimator/requirements.txt\u0027,\n \u0027/experiment_2/my_run_K4w/artifacts/cv_results.csv\u0027,\n \u0027/experiment_2/my_run_K4w/artifacts/model/MLmodel\u0027,\n \u0027/experiment_2/my_run_K4w/artifacts/model/conda.yaml\u0027,\n \u0027/experiment_2/my_run_K4w/artifacts/model/model.pkl\u0027,\n \u0027/experiment_2/my_run_K4w/artifacts/model/requirements.txt\u0027,\n \u0027/experiment_2/my_run_OqV/artifacts/best_estimator/MLmodel\u0027,\n \u0027/experiment_2/my_run_OqV/artifacts/best_estimator/conda.yaml\u0027,\n \u0027/experiment_2/my_run_OqV/artifacts/best_estimator/model.pkl\u0027,\n \u0027/experiment_2/my_run_OqV/artifacts/best_estimator/requirements.txt\u0027,\n \u0027/experiment_2/my_run_OqV/artifacts/cv_results.csv\u0027,\n \u0027/experiment_2/my_run_OqV/artifacts/model/MLmodel\u0027,\n \u0027/experiment_2/my_run_OqV/artifacts/model/conda.yaml\u0027,\n \u0027/experiment_2/my_run_OqV/artifacts/model/model.pkl\u0027,\n \u0027/experiment_2/my_run_OqV/artifacts/model/requirements.txt\u0027,\n \u0027/experiment_2/my_run_SBH/artifacts/best_estimator/MLmodel\u0027,\n \u0027/experiment_2/my_run_SBH/artifacts/best_estimator/conda.yaml\u0027,\n \u0027/experiment_2/my_run_SBH/artifacts/best_estimator/model.pkl\u0027,\n \u0027/experiment_2/my_run_SBH/artifacts/best_estimator/requirements.txt\u0027,\n \u0027/experiment_2/my_run_SBH/artifacts/cv_results.csv\u0027,\n \u0027/experiment_2/my_run_SBH/artifacts/model/MLmodel\u0027,\n \u0027/experiment_2/my_run_SBH/artifacts/model/conda.yaml\u0027,\n \u0027/experiment_2/my_run_SBH/artifacts/model/model.pkl\u0027,\n \u0027/experiment_2/my_run_SBH/artifacts/model/requirements.txt\u0027,\n \u0027/experiment_2/my_run_WNp/artifacts/best_estimator/MLmodel\u0027,\n \u0027/experiment_2/my_run_WNp/artifacts/best_estimator/conda.yaml\u0027,\n \u0027/experiment_2/my_run_WNp/artifacts/best_estimator/model.pkl\u0027,\n \u0027/experiment_2/my_run_WNp/artifacts/best_estimator/requirements.txt\u0027,\n \u0027/experiment_2/my_run_WNp/artifacts/cv_results.csv\u0027,\n \u0027/experiment_2/my_run_WNp/artifacts/model/MLmodel\u0027,\n \u0027/experiment_2/my_run_WNp/artifacts/model/conda.yaml\u0027,\n \u0027/experiment_2/my_run_WNp/artifacts/model/model.pkl\u0027,\n \u0027/experiment_2/my_run_WNp/artifacts/model/requirements.txt\u0027,\n \u0027/experiment_2/my_run_jHL/artifacts/best_estimator/MLmodel\u0027,\n \u0027/experiment_2/my_run_jHL/artifacts/best_estimator/conda.yaml\u0027,\n \u0027/experiment_2/my_run_jHL/artifacts/best_estimator/model.pkl\u0027,\n \u0027/experiment_2/my_run_jHL/artifacts/best_estimator/python_env.yaml\u0027,\n \u0027/experiment_2/my_run_jHL/artifacts/best_estimator/requirements.txt\u0027,\n \u0027/experiment_2/my_run_jHL/artifacts/cv_results.csv\u0027,\n \u0027/experiment_2/my_run_jHL/artifacts/estimator.html\u0027,\n \u0027/experiment_2/my_run_jHL/artifacts/model/MLmodel\u0027,\n \u0027/experiment_2/my_run_jHL/artifacts/model/conda.yaml\u0027,\n \u0027/experiment_2/my_run_jHL/artifacts/model/model.pkl\u0027,\n \u0027/experiment_2/my_run_jHL/artifacts/model/python_env.yaml\u0027,\n \u0027/experiment_2/my_run_jHL/artifacts/model/requirements.txt\u0027,\n \u0027/experiment_2/my_run_jHL/artifacts/training_confusion_matrix.png\u0027,\n \u0027/experiment_2/my_run_jHL/artifacts/training_precision_recall_curve.png\u0027,\n \u0027/experiment_2/my_run_jHL/artifacts/training_roc_curve.png\u0027,\n \u0027/experiment_2/my_run_mNw/artifacts/best_estimator/MLmodel\u0027,\n \u0027/experiment_2/my_run_mNw/artifacts/best_estimator/conda.yaml\u0027,\n \u0027/experiment_2/my_run_mNw/artifacts/best_estimator/model.pkl\u0027,\n \u0027/experiment_2/my_run_mNw/artifacts/best_estimator/requirements.txt\u0027,\n \u0027/experiment_2/my_run_mNw/artifacts/cv_results.csv\u0027,\n \u0027/experiment_2/my_run_mNw/artifacts/model/MLmodel\u0027,\n \u0027/experiment_2/my_run_mNw/artifacts/model/conda.yaml\u0027,\n \u0027/experiment_2/my_run_mNw/artifacts/model/model.pkl\u0027,\n \u0027/experiment_2/my_run_mNw/artifacts/model/requirements.txt\u0027,\n \u0027/let_s_autolog/2022_11_10T22_44_57/artifacts/best_estimator/MLmodel\u0027,\n \u0027/let_s_autolog/2022_11_10T22_44_57/artifacts/best_estimator/conda.yaml\u0027,\n \u0027/let_s_autolog/2022_11_10T22_44_57/artifacts/best_estimator/model.pkl\u0027,\n \u0027/let_s_autolog/2022_11_10T22_44_57/artifacts/best_estimator/python_env.yaml\u0027,\n \u0027/let_s_autolog/2022_11_10T22_44_57/artifacts/best_estimator/requirements.txt\u0027,\n \u0027/let_s_autolog/2022_11_10T22_44_57/artifacts/cv_results.csv\u0027,\n \u0027/let_s_autolog/2022_11_10T22_44_57/artifacts/estimator.html\u0027,\n \u0027/let_s_autolog/2022_11_10T22_44_57/artifacts/model/MLmodel\u0027,\n \u0027/let_s_autolog/2022_11_10T22_44_57/artifacts/model/conda.yaml\u0027,\n \u0027/let_s_autolog/2022_11_10T22_44_57/artifacts/model/model.pkl\u0027,\n \u0027/let_s_autolog/2022_11_10T22_44_57/artifacts/model/python_env.yaml\u0027,\n \u0027/let_s_autolog/2022_11_10T22_44_57/artifacts/model/requirements.txt\u0027,\n \u0027/let_s_autolog/2022_11_11T00_07_39/artifacts/best_estimator/MLmodel\u0027,\n \u0027/let_s_autolog/2022_11_11T00_07_39/artifacts/best_estimator/conda.yaml\u0027,\n \u0027/let_s_autolog/2022_11_11T00_07_39/artifacts/best_estimator/model.pkl\u0027,\n \u0027/let_s_autolog/2022_11_11T00_07_39/artifacts/best_estimator/python_env.yaml\u0027,\n \u0027/let_s_autolog/2022_11_11T00_07_39/artifacts/best_estimator/requirements.txt\u0027,\n \u0027/let_s_autolog/2022_11_11T00_07_39/artifacts/cv_results.csv\u0027,\n \u0027/let_s_autolog/2022_11_11T00_07_39/artifacts/estimator.html\u0027,\n \u0027/let_s_autolog/2022_11_11T00_07_39/artifacts/model/MLmodel\u0027,\n \u0027/let_s_autolog/2022_11_11T00_07_39/artifacts/model/conda.yaml\u0027,\n \u0027/let_s_autolog/2022_11_11T00_07_39/artifacts/model/model.pkl\u0027,\n \u0027/let_s_autolog/2022_11_11T00_07_39/artifacts/model/python_env.yaml\u0027,\n \u0027/let_s_autolog/2022_11_11T00_07_39/artifacts/model/requirements.txt\u0027,\n \u0027/sample_autolog/2022_11_10T21_10_57/artifacts/best_estimator/MLmodel\u0027,\n \u0027/sample_autolog/2022_11_10T21_10_57/artifacts/best_estimator/conda.yaml\u0027,\n \u0027/sample_autolog/2022_11_10T21_10_57/artifacts/best_estimator/model.pkl\u0027,\n \u0027/sample_autolog/2022_11_10T21_10_57/artifacts/best_estimator/python_env.yaml\u0027,\n \u0027/sample_autolog/2022_11_10T21_10_57/artifacts/best_estimator/requirements.txt\u0027,\n \u0027/sample_autolog/2022_11_10T21_10_57/artifacts/cv_results.csv\u0027,\n \u0027/sample_autolog/2022_11_10T21_10_57/artifacts/estimator.html\u0027,\n \u0027/sample_autolog/2022_11_10T21_10_57/artifacts/model/MLmodel\u0027,\n \u0027/sample_autolog/2022_11_10T21_10_57/artifacts/model/conda.yaml\u0027,\n \u0027/sample_autolog/2022_11_10T21_10_57/artifacts/model/model.pkl\u0027,\n \u0027/sample_autolog/2022_11_10T21_10_57/artifacts/model/python_env.yaml\u0027,\n \u0027/sample_autolog/2022_11_10T21_10_57/artifacts/model/requirements.txt\u0027]"
          },
          "metadata": {}
        }
      ]
    },
    {
      "execution_count": 6,
      "cell_type": "code",
      "metadata": {},
      "source": [
        "with handle.get_download_stream(\"experiment_2/my_run_jHL/artifacts/model/model.pkl\") as f:\n    data \u003d f.read()"
      ],
      "outputs": []
    },
    {
      "execution_count": 10,
      "cell_type": "code",
      "metadata": {},
      "source": [
        "output_handle \u003d dataiku.Folder(\"WISPen39\")\n\nwith output_handle.get_writer(data) as w:\n    w.write(\"test_output.pkl\")"
      ],
      "outputs": [
        {
          "output_type": "stream",
          "text": "WARNING:root:Exception was not JSON\nERROR:root:Pipe to generator thread failed\nTraceback (most recent call last):\n  File \"/home/dataiku/dataiku-dss-11.0.3/python/dataiku/core/dkuio.py\", line 253, in run\n    self.consumer(self._generate())\n  File \"/home/dataiku/dataiku-dss-11.0.3/python/dataiku/core/managed_folder.py\", line 38, in upload_call\n    jek_or_backend_void_call(\"managed-folders/upload-path\", params\u003d{\n  File \"/home/dataiku/dataiku-dss-11.0.3/python/dataiku/core/intercom.py\", line 446, in jek_or_backend_void_call\n    return backend_void_call(path, data, err_msg, **kwargs)\n  File \"/home/dataiku/dataiku-dss-11.0.3/python/dataiku/core/intercom.py\", line 437, in backend_void_call\n    return _handle_void_resp(backend_api_post_call(path, data, **kwargs), err_msg \u003d err_msg)\n  File \"/home/dataiku/dataiku-dss-11.0.3/python/dataiku/core/intercom.py\", line 495, in _handle_void_resp\n    raise Exception(\"%s: %s\" % (err_msg, _get_error_message(err_data).encode(\"utf8\")))\nException: None: b\u0027\u003ch1\u003eBad Message 414\u003c/h1\u003e\u003cpre\u003ereason: URI Too Long\u003c/pre\u003e\u0027\n",
          "name": "stderr"
        },
        {
          "output_type": "error",
          "ename": "Exception",
          "evalue": "Error : None: b\u0027\u003ch1\u003eBad Message 414\u003c/h1\u003e\u003cpre\u003ereason: URI Too Long\u003c/pre\u003e\u0027",
          "traceback": [
            "\u001b[0;31m---------------------------------------------------------------------------\u001b[0m",
            "\u001b[0;31mTypeError\u001b[0m                                 Traceback (most recent call last)",
            "\u001b[0;32m\u003cipython-input-10-aab8845b7e70\u003e\u001b[0m in \u001b[0;36m\u003ccell line: 3\u003e\u001b[0;34m()\u001b[0m\n\u001b[1;32m      3\u001b[0m \u001b[0;32mwith\u001b[0m \u001b[0moutput_handle\u001b[0m\u001b[0;34m.\u001b[0m\u001b[0mget_writer\u001b[0m\u001b[0;34m(\u001b[0m\u001b[0mdata\u001b[0m\u001b[0;34m)\u001b[0m \u001b[0;32mas\u001b[0m \u001b[0mw\u001b[0m\u001b[0;34m:\u001b[0m\u001b[0;34m\u001b[0m\u001b[0;34m\u001b[0m\u001b[0m\n\u001b[0;32m----\u003e 4\u001b[0;31m     \u001b[0mw\u001b[0m\u001b[0;34m.\u001b[0m\u001b[0mwrite\u001b[0m\u001b[0;34m(\u001b[0m\u001b[0;34m\"test_output.pkl\"\u001b[0m\u001b[0;34m)\u001b[0m\u001b[0;34m\u001b[0m\u001b[0;34m\u001b[0m\u001b[0m\n\u001b[0m",
            "\u001b[0;32m/home/dataiku/dataiku-dss-11.0.3/python/dataiku/core/managed_folder.py\u001b[0m in \u001b[0;36mwrite\u001b[0;34m(self, b)\u001b[0m\n\u001b[1;32m     45\u001b[0m     \u001b[0;32mdef\u001b[0m \u001b[0mwrite\u001b[0m\u001b[0;34m(\u001b[0m\u001b[0mself\u001b[0m\u001b[0;34m,\u001b[0m \u001b[0mb\u001b[0m\u001b[0;34m)\u001b[0m\u001b[0;34m:\u001b[0m\u001b[0;34m\u001b[0m\u001b[0;34m\u001b[0m\u001b[0m\n\u001b[0;32m---\u003e 46\u001b[0;31m         \u001b[0mself\u001b[0m\u001b[0;34m.\u001b[0m\u001b[0mpiping_thread\u001b[0m\u001b[0;34m.\u001b[0m\u001b[0mwrite\u001b[0m\u001b[0;34m(\u001b[0m\u001b[0mb\u001b[0m\u001b[0;34m)\u001b[0m\u001b[0;34m\u001b[0m\u001b[0;34m\u001b[0m\u001b[0m\n\u001b[0m\u001b[1;32m     47\u001b[0m \u001b[0;34m\u001b[0m\u001b[0m\n",
            "\u001b[0;32m/home/dataiku/dataiku-dss-11.0.3/python/dataiku/core/dkuio.py\u001b[0m in \u001b[0;36mwrite\u001b[0;34m(self, data)\u001b[0m\n\u001b[1;32m    217\u001b[0m             \u001b[0mself\u001b[0m\u001b[0;34m.\u001b[0m\u001b[0m_check_health\u001b[0m\u001b[0;34m(\u001b[0m\u001b[0;34m)\u001b[0m\u001b[0;34m\u001b[0m\u001b[0;34m\u001b[0m\u001b[0m\n\u001b[0;32m--\u003e 218\u001b[0;31m             \u001b[0mself\u001b[0m\u001b[0;34m.\u001b[0m\u001b[0mbuffer\u001b[0m\u001b[0;34m.\u001b[0m\u001b[0mwrite\u001b[0m\u001b[0;34m(\u001b[0m\u001b[0mchunk\u001b[0m\u001b[0;34m)\u001b[0m\u001b[0;34m\u001b[0m\u001b[0;34m\u001b[0m\u001b[0m\n\u001b[0m\u001b[1;32m    219\u001b[0m             \u001b[0;32mif\u001b[0m \u001b[0mself\u001b[0m\u001b[0;34m.\u001b[0m\u001b[0mbuffer\u001b[0m\u001b[0;34m.\u001b[0m\u001b[0mtell\u001b[0m\u001b[0;34m(\u001b[0m\u001b[0;34m)\u001b[0m \u001b[0;34m\u003e\u003d\u001b[0m \u001b[0mself\u001b[0m\u001b[0;34m.\u001b[0m\u001b[0mchunk_size\u001b[0m\u001b[0;34m:\u001b[0m\u001b[0;34m\u001b[0m\u001b[0;34m\u001b[0m\u001b[0m\n",
            "\u001b[0;31mTypeError\u001b[0m: a bytes-like object is required, not \u0027str\u0027",
            "\nDuring handling of the above exception, another exception occurred:\n",
            "\u001b[0;31mException\u001b[0m                                 Traceback (most recent call last)",
            "\u001b[0;32m\u003cipython-input-10-aab8845b7e70\u003e\u001b[0m in \u001b[0;36m\u003ccell line: 3\u003e\u001b[0;34m()\u001b[0m\n\u001b[1;32m      2\u001b[0m \u001b[0;34m\u001b[0m\u001b[0m\n\u001b[1;32m      3\u001b[0m \u001b[0;32mwith\u001b[0m \u001b[0moutput_handle\u001b[0m\u001b[0;34m.\u001b[0m\u001b[0mget_writer\u001b[0m\u001b[0;34m(\u001b[0m\u001b[0mdata\u001b[0m\u001b[0;34m)\u001b[0m \u001b[0;32mas\u001b[0m \u001b[0mw\u001b[0m\u001b[0;34m:\u001b[0m\u001b[0;34m\u001b[0m\u001b[0;34m\u001b[0m\u001b[0m\n\u001b[0;32m----\u003e 4\u001b[0;31m     \u001b[0mw\u001b[0m\u001b[0;34m.\u001b[0m\u001b[0mwrite\u001b[0m\u001b[0;34m(\u001b[0m\u001b[0;34m\"test_output.pkl\"\u001b[0m\u001b[0;34m)\u001b[0m\u001b[0;34m\u001b[0m\u001b[0;34m\u001b[0m\u001b[0m\n\u001b[0m",
            "\u001b[0;32m/home/dataiku/dataiku-dss-11.0.3/python/dataiku/core/managed_folder.py\u001b[0m in \u001b[0;36m__exit__\u001b[0;34m(self, type, value, traceback)\u001b[0m\n\u001b[1;32m     56\u001b[0m \u001b[0;34m\u001b[0m\u001b[0m\n\u001b[1;32m     57\u001b[0m     \u001b[0;32mdef\u001b[0m \u001b[0m__exit__\u001b[0m\u001b[0;34m(\u001b[0m\u001b[0mself\u001b[0m\u001b[0;34m,\u001b[0m \u001b[0mtype\u001b[0m\u001b[0;34m,\u001b[0m \u001b[0mvalue\u001b[0m\u001b[0;34m,\u001b[0m \u001b[0mtraceback\u001b[0m\u001b[0;34m)\u001b[0m\u001b[0;34m:\u001b[0m\u001b[0;34m\u001b[0m\u001b[0;34m\u001b[0m\u001b[0m\n\u001b[0;32m---\u003e 58\u001b[0;31m         \u001b[0mself\u001b[0m\u001b[0;34m.\u001b[0m\u001b[0mclose\u001b[0m\u001b[0;34m(\u001b[0m\u001b[0;34m)\u001b[0m\u001b[0;34m\u001b[0m\u001b[0;34m\u001b[0m\u001b[0m\n\u001b[0m\u001b[1;32m     59\u001b[0m \u001b[0;34m\u001b[0m\u001b[0m\n\u001b[1;32m     60\u001b[0m \u001b[0;32mdef\u001b[0m \u001b[0m_folder_writer_atexit_handler\u001b[0m\u001b[0;34m(\u001b[0m\u001b[0;34m)\u001b[0m\u001b[0;34m:\u001b[0m\u001b[0;34m\u001b[0m\u001b[0;34m\u001b[0m\u001b[0m\n",
            "\u001b[0;32m/home/dataiku/dataiku-dss-11.0.3/python/dataiku/core/managed_folder.py\u001b[0m in \u001b[0;36mclose\u001b[0;34m(self)\u001b[0m\n\u001b[1;32m     50\u001b[0m             \u001b[0;32mdel\u001b[0m \u001b[0mManagedFolderWriter\u001b[0m\u001b[0;34m.\u001b[0m\u001b[0mactive_writers\u001b[0m\u001b[0;34m[\u001b[0m\u001b[0mself\u001b[0m\u001b[0;34m.\u001b[0m\u001b[0mfull_name\u001b[0m\u001b[0;34m]\u001b[0m\u001b[0;34m\u001b[0m\u001b[0;34m\u001b[0m\u001b[0m\n\u001b[1;32m     51\u001b[0m         \u001b[0mself\u001b[0m\u001b[0;34m.\u001b[0m\u001b[0mpiping_thread\u001b[0m\u001b[0;34m.\u001b[0m\u001b[0mclose\u001b[0m\u001b[0;34m(\u001b[0m\u001b[0;34m)\u001b[0m\u001b[0;34m\u001b[0m\u001b[0;34m\u001b[0m\u001b[0m\n\u001b[0;32m---\u003e 52\u001b[0;31m         \u001b[0mself\u001b[0m\u001b[0;34m.\u001b[0m\u001b[0mpiping_thread\u001b[0m\u001b[0;34m.\u001b[0m\u001b[0mwait_for_completion\u001b[0m\u001b[0;34m(\u001b[0m\u001b[0;34m)\u001b[0m\u001b[0;34m\u001b[0m\u001b[0;34m\u001b[0m\u001b[0m\n\u001b[0m\u001b[1;32m     53\u001b[0m \u001b[0;34m\u001b[0m\u001b[0m\n\u001b[1;32m     54\u001b[0m     \u001b[0;32mdef\u001b[0m \u001b[0m__enter__\u001b[0m\u001b[0;34m(\u001b[0m\u001b[0mself\u001b[0m\u001b[0;34m,\u001b[0m\u001b[0;34m)\u001b[0m\u001b[0;34m:\u001b[0m\u001b[0;34m\u001b[0m\u001b[0;34m\u001b[0m\u001b[0m\n",
            "\u001b[0;32m/home/dataiku/dataiku-dss-11.0.3/python/dataiku/core/dkuio.py\u001b[0m in \u001b[0;36mwait_for_completion\u001b[0;34m(self)\u001b[0m\n\u001b[1;32m    229\u001b[0m         \u001b[0;32mif\u001b[0m \u001b[0mself\u001b[0m\u001b[0;34m.\u001b[0m\u001b[0mqueue\u001b[0m \u001b[0;32mis\u001b[0m \u001b[0;32mnot\u001b[0m \u001b[0;32mNone\u001b[0m\u001b[0;34m:\u001b[0m\u001b[0;34m\u001b[0m\u001b[0;34m\u001b[0m\u001b[0m\n\u001b[1;32m    230\u001b[0m             \u001b[0mself\u001b[0m\u001b[0;34m.\u001b[0m\u001b[0mqueue\u001b[0m\u001b[0;34m.\u001b[0m\u001b[0mjoin\u001b[0m\u001b[0;34m(\u001b[0m\u001b[0;34m)\u001b[0m\u001b[0;34m\u001b[0m\u001b[0;34m\u001b[0m\u001b[0m\n\u001b[0;32m--\u003e 231\u001b[0;31m         \u001b[0mself\u001b[0m\u001b[0;34m.\u001b[0m\u001b[0m_check_error\u001b[0m\u001b[0;34m(\u001b[0m\u001b[0;34m)\u001b[0m\u001b[0;34m\u001b[0m\u001b[0;34m\u001b[0m\u001b[0m\n\u001b[0m\u001b[1;32m    232\u001b[0m \u001b[0;34m\u001b[0m\u001b[0m\n\u001b[1;32m    233\u001b[0m     \u001b[0;32mdef\u001b[0m \u001b[0m_generate\u001b[0m\u001b[0;34m(\u001b[0m\u001b[0mself\u001b[0m\u001b[0;34m)\u001b[0m\u001b[0;34m:\u001b[0m\u001b[0;34m\u001b[0m\u001b[0;34m\u001b[0m\u001b[0m\n",
            "\u001b[0;32m/home/dataiku/dataiku-dss-11.0.3/python/dataiku/core/dkuio.py\u001b[0m in \u001b[0;36m_check_error\u001b[0;34m(self)\u001b[0m\n\u001b[1;32m    181\u001b[0m     \u001b[0;32mdef\u001b[0m \u001b[0m_check_error\u001b[0m\u001b[0;34m(\u001b[0m\u001b[0mself\u001b[0m\u001b[0;34m)\u001b[0m\u001b[0;34m:\u001b[0m\u001b[0;34m\u001b[0m\u001b[0;34m\u001b[0m\u001b[0m\n\u001b[1;32m    182\u001b[0m         \u001b[0;32mif\u001b[0m \u001b[0mself\u001b[0m\u001b[0;34m.\u001b[0m\u001b[0merror_message\u001b[0m\u001b[0;34m:\u001b[0m\u001b[0;34m\u001b[0m\u001b[0;34m\u001b[0m\u001b[0m\n\u001b[0;32m--\u003e 183\u001b[0;31m             \u001b[0;32mraise\u001b[0m \u001b[0mException\u001b[0m\u001b[0;34m(\u001b[0m\u001b[0mself\u001b[0m\u001b[0;34m.\u001b[0m\u001b[0merror_message\u001b[0m\u001b[0;34m)\u001b[0m\u001b[0;34m\u001b[0m\u001b[0;34m\u001b[0m\u001b[0m\n\u001b[0m\u001b[1;32m    184\u001b[0m \u001b[0;34m\u001b[0m\u001b[0m\n\u001b[1;32m    185\u001b[0m     \u001b[0;32mdef\u001b[0m \u001b[0m_check_health\u001b[0m\u001b[0;34m(\u001b[0m\u001b[0mself\u001b[0m\u001b[0;34m)\u001b[0m\u001b[0;34m:\u001b[0m\u001b[0;34m\u001b[0m\u001b[0;34m\u001b[0m\u001b[0m\n",
            "\u001b[0;31mException\u001b[0m: Error : None: b\u0027\u003ch1\u003eBad Message 414\u003c/h1\u003e\u003cpre\u003ereason: URI Too Long\u003c/pre\u003e\u0027"
          ]
        }
      ]
    },
    {
      "execution_count": 0,
      "cell_type": "code",
      "metadata": {},
      "source": [
        ""
      ],
      "outputs": []
    }
  ]
}