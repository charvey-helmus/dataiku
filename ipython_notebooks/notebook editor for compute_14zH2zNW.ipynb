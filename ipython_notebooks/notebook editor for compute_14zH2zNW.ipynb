{
  "metadata": {
    "kernelspec": {
      "name": "py-dku-venv-datascience",
      "display_name": "Python (env datascience)",
      "language": "python"
    },
    "associatedRecipe": "compute_14zH2zNW",
    "creator": "chris.helmus@dataiku.com",
    "createdOn": 1668113065619,
    "tags": [
      "recipe-editor"
    ],
    "customFields": {},
    "hide_input": false,
    "language_info": {
      "name": "python",
      "version": "3.6.8",
      "mimetype": "text/x-python",
      "codemirror_mode": {
        "name": "ipython",
        "version": 3
      },
      "pygments_lexer": "ipython3",
      "nbconvert_exporter": "python",
      "file_extension": ".py"
    },
    "modifiedBy": "chris.helmus@dataiku.com"
  },
  "nbformat": 4,
  "nbformat_minor": 1,
  "cells": [
    {
      "execution_count": 1,
      "cell_type": "code",
      "metadata": {},
      "source": [
        "# -*- coding: utf-8 -*-\nimport dataiku\nimport pandas as pd, numpy as np\nfrom dataiku import pandasutils as pdu\n\n\nground_truth \u003d dataiku.Dataset(\"flight_ground_truth\")\nground_truth_df \u003d ground_truth.get_dataframe()\n"
      ],
      "outputs": []
    },
    {
      "execution_count": 0,
      "cell_type": "code",
      "metadata": {},
      "source": [
        "s3_folder \u003d dataiku.Folder(\"14zH2zNW\")\n\nwith s3.get_writer(\u0027train/data.csv\u0027) as w:\n    w.write(train.to_csv(index\u003dFalse, header\u003dFalse).encode(\"utf-8\"))"
      ],
      "outputs": []
    },
    {
      "execution_count": 0,
      "cell_type": "code",
      "metadata": {},
      "source": [
        "\n\n# Write recipe outputs\ns3_folder \u003d dataiku.Folder(\"14zH2zNW\")\ns3_folder_info \u003d s3_folder.get_info()"
      ],
      "outputs": []
    }
  ]
}