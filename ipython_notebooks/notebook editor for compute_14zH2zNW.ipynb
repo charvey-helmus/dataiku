{
  "metadata": {
    "kernelspec": {
      "name": "python3",
      "display_name": "Python 3",
      "language": "python"
    },
    "associatedRecipe": "compute_14zH2zNW",
    "creator": "chris.helmus@dataiku.com",
    "createdOn": 1668113065619,
    "tags": [
      "recipe-editor"
    ],
    "customFields": {},
    "hide_input": false,
    "modifiedBy": "chris.helmus@dataiku.com"
  },
  "nbformat": 4,
  "nbformat_minor": 1,
  "cells": [
    {
      "execution_count": 0,
      "cell_type": "code",
      "metadata": {},
      "source": [
        "# -*- coding: utf-8 -*-\nimport dataiku\nimport pandas as pd, numpy as np\nfrom dataiku import pandasutils as pdu\n\n\nground_truth \u003d dataiku.Dataset(\"flight_ground_truth\")\nground_truth_df \u003d ground_truth.get_dataframe()\n"
      ],
      "outputs": []
    },
    {
      "execution_count": 0,
      "cell_type": "code",
      "metadata": {},
      "source": [
        ""
      ],
      "outputs": []
    },
    {
      "execution_count": 0,
      "cell_type": "code",
      "metadata": {},
      "source": [
        "\n\n# Write recipe outputs\ns3_folder \u003d dataiku.Folder(\"14zH2zNW\")\ns3_folder_info \u003d s3_folder.get_info()"
      ],
      "outputs": []
    }
  ]
}