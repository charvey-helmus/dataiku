{
  "metadata": {
    "kernelspec": {
      "name": "py-dku-venv-datascience",
      "display_name": "Python (env datascience)",
      "language": "python"
    },
    "associatedRecipe": "compute_14zH2zNW",
    "creator": "chris.helmus@dataiku.com",
    "createdOn": 1668113065619,
    "tags": [
      "recipe-editor"
    ],
    "customFields": {},
    "hide_input": false,
    "language_info": {
      "name": "python",
      "version": "3.6.8",
      "mimetype": "text/x-python",
      "codemirror_mode": {
        "name": "ipython",
        "version": 3
      },
      "pygments_lexer": "ipython3",
      "nbconvert_exporter": "python",
      "file_extension": ".py"
    },
    "modifiedBy": "chris.helmus@dataiku.com"
  },
  "nbformat": 4,
  "nbformat_minor": 1,
  "cells": [
    {
      "execution_count": 1,
      "cell_type": "code",
      "metadata": {},
      "source": [
        "# -*- coding: utf-8 -*-\nimport dataiku\nimport pandas as pd, numpy as np\nfrom dataiku import pandasutils as pdu\n\n\nground_truth \u003d dataiku.Dataset(\"flight_ground_truth\")\nground_truth_df \u003d ground_truth.get_dataframe()\n"
      ],
      "outputs": []
    },
    {
      "execution_count": 3,
      "cell_type": "code",
      "metadata": {},
      "source": [
        "output_model_folder \u003d dataiku.Folder(\"14zH2zNW\")\noutput_model_folder_ai \u003d output_model_folder.get_info()[\"accessInfo\"]\noutput_model_folder_path \u003d \"s3://{}{}\".format(output_model_folder_ai[\"bucket\"], output_model_folder_ai[\"root\"])\n"
      ],
      "outputs": []
    },
    {
      "execution_count": 4,
      "cell_type": "code",
      "metadata": {},
      "source": [
        "output_model_folder_path"
      ],
      "outputs": [
        {
          "output_type": "execute_result",
          "execution_count": 4,
          "data": {
            "text/plain": "\u0027s3://gis-data-us-east-1/space-5b568791-dku/node-0874aa03/managed-dss-data/MLFLOWO16N/14zH2zNW\u0027"
          },
          "metadata": {}
        }
      ]
    },
    {
      "execution_count": 0,
      "cell_type": "code",
      "metadata": {},
      "source": [
        ""
      ],
      "outputs": []
    },
    {
      "execution_count": 2,
      "cell_type": "code",
      "metadata": {},
      "source": [
        "s3_folder \u003d dataiku.Folder(\"14zH2zNW\")\n\nwith s3_folder.get_writer(\u0027ground_truth.csv\u0027) as w:\n    w.write(ground_truth_df.to_csv(index\u003dFalse, header\u003dFalse).encode(\"utf-8\"))"
      ],
      "outputs": []
    },
    {
      "execution_count": 0,
      "cell_type": "code",
      "metadata": {},
      "source": [
        "\n\n# Write recipe outputs\ns3_folder \u003d dataiku.Folder(\"14zH2zNW\")\ns3_folder_info \u003d s3_folder.get_info()"
      ],
      "outputs": []
    }
  ]
}